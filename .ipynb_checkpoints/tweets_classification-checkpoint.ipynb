{
 "cells": [
  {
   "cell_type": "markdown",
   "metadata": {
    "papermill": {
     "duration": 0.05428,
     "end_time": "2020-12-15T16:44:31.555728",
     "exception": false,
     "start_time": "2020-12-15T16:44:31.501448",
     "status": "completed"
    },
    "tags": []
   },
   "source": [
    "# install tweepy"
   ]
  },
  {
   "cell_type": "code",
   "execution_count": 1,
   "metadata": {
    "execution": {
     "iopub.execute_input": "2020-12-15T16:44:31.667924Z",
     "iopub.status.busy": "2020-12-15T16:44:31.667293Z",
     "iopub.status.idle": "2020-12-15T16:44:41.630234Z",
     "shell.execute_reply": "2020-12-15T16:44:41.629462Z"
    },
    "papermill": {
     "duration": 10.019787,
     "end_time": "2020-12-15T16:44:41.630354",
     "exception": false,
     "start_time": "2020-12-15T16:44:31.610567",
     "status": "completed"
    },
    "tags": []
   },
   "outputs": [
    {
     "name": "stdout",
     "output_type": "stream",
     "text": [
      "Collecting tweepy\r\n",
      "  Downloading tweepy-3.9.0-py2.py3-none-any.whl (30 kB)\r\n",
      "Requirement already satisfied: requests-oauthlib>=0.7.0 in /opt/conda/lib/python3.7/site-packages (from tweepy) (1.2.0)\r\n",
      "Requirement already satisfied: requests[socks]>=2.11.1 in /opt/conda/lib/python3.7/site-packages (from tweepy) (2.23.0)\r\n",
      "Requirement already satisfied: six>=1.10.0 in /opt/conda/lib/python3.7/site-packages (from tweepy) (1.14.0)\r\n",
      "Requirement already satisfied: requests>=2.0.0 in /opt/conda/lib/python3.7/site-packages (from requests-oauthlib>=0.7.0->tweepy) (2.23.0)\r\n",
      "Requirement already satisfied: oauthlib>=3.0.0 in /opt/conda/lib/python3.7/site-packages (from requests-oauthlib>=0.7.0->tweepy) (3.0.1)\r\n",
      "Requirement already satisfied: urllib3!=1.25.0,!=1.25.1,<1.26,>=1.21.1 in /opt/conda/lib/python3.7/site-packages (from requests>=2.0.0->requests-oauthlib>=0.7.0->tweepy) (1.25.9)\r\n",
      "Requirement already satisfied: chardet<4,>=3.0.2 in /opt/conda/lib/python3.7/site-packages (from requests>=2.0.0->requests-oauthlib>=0.7.0->tweepy) (3.0.4)\r\n",
      "Requirement already satisfied: certifi>=2017.4.17 in /opt/conda/lib/python3.7/site-packages (from requests>=2.0.0->requests-oauthlib>=0.7.0->tweepy) (2020.12.5)\r\n",
      "Requirement already satisfied: idna<3,>=2.5 in /opt/conda/lib/python3.7/site-packages (from requests>=2.0.0->requests-oauthlib>=0.7.0->tweepy) (2.9)\r\n",
      "Requirement already satisfied: urllib3!=1.25.0,!=1.25.1,<1.26,>=1.21.1 in /opt/conda/lib/python3.7/site-packages (from requests>=2.0.0->requests-oauthlib>=0.7.0->tweepy) (1.25.9)\r\n",
      "Requirement already satisfied: chardet<4,>=3.0.2 in /opt/conda/lib/python3.7/site-packages (from requests>=2.0.0->requests-oauthlib>=0.7.0->tweepy) (3.0.4)\r\n",
      "Requirement already satisfied: certifi>=2017.4.17 in /opt/conda/lib/python3.7/site-packages (from requests>=2.0.0->requests-oauthlib>=0.7.0->tweepy) (2020.12.5)\r\n",
      "Requirement already satisfied: idna<3,>=2.5 in /opt/conda/lib/python3.7/site-packages (from requests>=2.0.0->requests-oauthlib>=0.7.0->tweepy) (2.9)\r\n",
      "Requirement already satisfied: PySocks!=1.5.7,>=1.5.6 in /opt/conda/lib/python3.7/site-packages (from requests[socks]>=2.11.1->tweepy) (1.7.1)\r\n",
      "Installing collected packages: tweepy\r\n",
      "Successfully installed tweepy-3.9.0\r\n",
      "\u001b[33mWARNING: You are using pip version 20.3.1; however, version 20.3.3 is available.\r\n",
      "You should consider upgrading via the '/opt/conda/bin/python3.7 -m pip install --upgrade pip' command.\u001b[0m\r\n"
     ]
    }
   ],
   "source": [
    "!pip install tweepy"
   ]
  },
  {
   "cell_type": "markdown",
   "metadata": {
    "papermill": {
     "duration": 0.054544,
     "end_time": "2020-12-15T16:44:41.740331",
     "exception": false,
     "start_time": "2020-12-15T16:44:41.685787",
     "status": "completed"
    },
    "tags": []
   },
   "source": [
    "# import libraries python"
   ]
  },
  {
   "cell_type": "markdown",
   "metadata": {
    "papermill": {
     "duration": 0.054002,
     "end_time": "2020-12-15T16:44:41.848203",
     "exception": false,
     "start_time": "2020-12-15T16:44:41.794201",
     "status": "completed"
    },
    "tags": []
   },
   "source": [
    "* used NLP and NLTK with wordnet et stopwords"
   ]
  },
  {
   "cell_type": "code",
   "execution_count": 2,
   "metadata": {
    "execution": {
     "iopub.execute_input": "2020-12-15T16:44:41.966756Z",
     "iopub.status.busy": "2020-12-15T16:44:41.966059Z",
     "iopub.status.idle": "2020-12-15T16:44:45.252551Z",
     "shell.execute_reply": "2020-12-15T16:44:45.251753Z"
    },
    "papermill": {
     "duration": 3.349676,
     "end_time": "2020-12-15T16:44:45.252703",
     "exception": false,
     "start_time": "2020-12-15T16:44:41.903027",
     "status": "completed"
    },
    "tags": []
   },
   "outputs": [
    {
     "name": "stdout",
     "output_type": "stream",
     "text": [
      "[nltk_data] Downloading package stopwords to /usr/share/nltk_data...\n",
      "[nltk_data]   Package stopwords is already up-to-date!\n",
      "[nltk_data] Downloading package wordnet to /usr/share/nltk_data...\n",
      "[nltk_data]   Package wordnet is already up-to-date!\n"
     ]
    }
   ],
   "source": [
    "import pandas as pd\n",
    "import numpy as np\n",
    "import seaborn as sns\n",
    "import matplotlib.pyplot as plt\n",
    "\n",
    "import tweepy\n",
    "import csv\n",
    "import os\n",
    "import pandas as pd\n",
    "\n",
    "import numpy as np \n",
    "import pandas as pd\n",
    "import matplotlib.pyplot as plt\n",
    "import seaborn as sns\n",
    "import re\n",
    "import spacy\n",
    "from sklearn.model_selection import train_test_split\n",
    "import nltk\n",
    "nltk.download('stopwords')\n",
    "nltk.download('wordnet')\n",
    "from nltk.tokenize import RegexpTokenizer, WhitespaceTokenizer\n",
    "from nltk.stem import WordNetLemmatizer\n",
    "from nltk.corpus import stopwords\n",
    "import string\n",
    "from string import punctuation\n",
    "import collections\n",
    "from collections import Counter\n",
    "from sklearn.feature_extraction.text import CountVectorizer, TfidfVectorizer\n",
    "import en_core_web_sm"
   ]
  },
  {
   "cell_type": "markdown",
   "metadata": {
    "papermill": {
     "duration": 0.054239,
     "end_time": "2020-12-15T16:44:45.362619",
     "exception": false,
     "start_time": "2020-12-15T16:44:45.308380",
     "status": "completed"
    },
    "tags": []
   },
   "source": [
    "# Read our dasasets**"
   ]
  },
  {
   "cell_type": "code",
   "execution_count": 3,
   "metadata": {
    "execution": {
     "iopub.execute_input": "2020-12-15T16:44:45.487205Z",
     "iopub.status.busy": "2020-12-15T16:44:45.486483Z",
     "iopub.status.idle": "2020-12-15T16:44:45.558545Z",
     "shell.execute_reply": "2020-12-15T16:44:45.557868Z"
    },
    "papermill": {
     "duration": 0.141602,
     "end_time": "2020-12-15T16:44:45.558685",
     "exception": false,
     "start_time": "2020-12-15T16:44:45.417083",
     "status": "completed"
    },
    "tags": []
   },
   "outputs": [],
   "source": [
    "datasets = pd.read_csv('../input/twitterdatasets/data.csv' )"
   ]
  },
  {
   "cell_type": "code",
   "execution_count": 4,
   "metadata": {
    "execution": {
     "iopub.execute_input": "2020-12-15T16:44:45.691446Z",
     "iopub.status.busy": "2020-12-15T16:44:45.690606Z",
     "iopub.status.idle": "2020-12-15T16:44:45.700079Z",
     "shell.execute_reply": "2020-12-15T16:44:45.699476Z"
    },
    "papermill": {
     "duration": 0.080116,
     "end_time": "2020-12-15T16:44:45.700198",
     "exception": false,
     "start_time": "2020-12-15T16:44:45.620082",
     "status": "completed"
    },
    "tags": []
   },
   "outputs": [
    {
     "data": {
      "text/html": [
       "<div>\n",
       "<style scoped>\n",
       "    .dataframe tbody tr th:only-of-type {\n",
       "        vertical-align: middle;\n",
       "    }\n",
       "\n",
       "    .dataframe tbody tr th {\n",
       "        vertical-align: top;\n",
       "    }\n",
       "\n",
       "    .dataframe thead th {\n",
       "        text-align: right;\n",
       "    }\n",
       "</style>\n",
       "<table border=\"1\" class=\"dataframe\">\n",
       "  <thead>\n",
       "    <tr style=\"text-align: right;\">\n",
       "      <th></th>\n",
       "      <th>user</th>\n",
       "      <th>Text</th>\n",
       "    </tr>\n",
       "  </thead>\n",
       "  <tbody>\n",
       "    <tr>\n",
       "      <th>0</th>\n",
       "      <td>Education1939</td>\n",
       "      <td>This past week The Staff Recognition Committee...</td>\n",
       "    </tr>\n",
       "    <tr>\n",
       "      <th>1</th>\n",
       "      <td>alexanderrusso</td>\n",
       "      <td>RT @UNICEFmedia: \"Evidence shows that schools ...</td>\n",
       "    </tr>\n",
       "    <tr>\n",
       "      <th>2</th>\n",
       "      <td>TaleamSystems</td>\n",
       "      <td>Taleam Systems' CEO implemented the Student e-...</td>\n",
       "    </tr>\n",
       "    <tr>\n",
       "      <th>3</th>\n",
       "      <td>javrsda</td>\n",
       "      <td>Ya quiero que salga la nueva temporada de Sex ...</td>\n",
       "    </tr>\n",
       "    <tr>\n",
       "      <th>4</th>\n",
       "      <td>Calpe19</td>\n",
       "      <td>RT @LizzyJPrice: @JonnyGeller A great loss. Wh...</td>\n",
       "    </tr>\n",
       "  </tbody>\n",
       "</table>\n",
       "</div>"
      ],
      "text/plain": [
       "             user                                               Text\n",
       "0   Education1939  This past week The Staff Recognition Committee...\n",
       "1  alexanderrusso  RT @UNICEFmedia: \"Evidence shows that schools ...\n",
       "2   TaleamSystems  Taleam Systems' CEO implemented the Student e-...\n",
       "3         javrsda  Ya quiero que salga la nueva temporada de Sex ...\n",
       "4         Calpe19  RT @LizzyJPrice: @JonnyGeller A great loss. Wh..."
      ]
     },
     "execution_count": 4,
     "metadata": {},
     "output_type": "execute_result"
    }
   ],
   "source": [
    "datasets.head()\n"
   ]
  },
  {
   "cell_type": "code",
   "execution_count": 5,
   "metadata": {
    "execution": {
     "iopub.execute_input": "2020-12-15T16:44:45.818300Z",
     "iopub.status.busy": "2020-12-15T16:44:45.817363Z",
     "iopub.status.idle": "2020-12-15T16:44:45.822315Z",
     "shell.execute_reply": "2020-12-15T16:44:45.821634Z"
    },
    "papermill": {
     "duration": 0.066681,
     "end_time": "2020-12-15T16:44:45.822422",
     "exception": false,
     "start_time": "2020-12-15T16:44:45.755741",
     "status": "completed"
    },
    "tags": []
   },
   "outputs": [
    {
     "data": {
      "text/plain": [
       "(12000, 2)"
      ]
     },
     "execution_count": 5,
     "metadata": {},
     "output_type": "execute_result"
    }
   ],
   "source": [
    "datasets.shape"
   ]
  },
  {
   "cell_type": "markdown",
   "metadata": {
    "papermill": {
     "duration": 0.056055,
     "end_time": "2020-12-15T16:44:45.934287",
     "exception": false,
     "start_time": "2020-12-15T16:44:45.878232",
     "status": "completed"
    },
    "tags": []
   },
   "source": [
    "* checking columns and total records"
   ]
  },
  {
   "cell_type": "code",
   "execution_count": 6,
   "metadata": {
    "execution": {
     "iopub.execute_input": "2020-12-15T16:44:46.059520Z",
     "iopub.status.busy": "2020-12-15T16:44:46.056871Z",
     "iopub.status.idle": "2020-12-15T16:44:46.068718Z",
     "shell.execute_reply": "2020-12-15T16:44:46.068056Z"
    },
    "papermill": {
     "duration": 0.076227,
     "end_time": "2020-12-15T16:44:46.068844",
     "exception": false,
     "start_time": "2020-12-15T16:44:45.992617",
     "status": "completed"
    },
    "tags": []
   },
   "outputs": [
    {
     "name": "stdout",
     "output_type": "stream",
     "text": [
      "<class 'pandas.core.frame.DataFrame'>\n",
      "RangeIndex: 12000 entries, 0 to 11999\n",
      "Data columns (total 2 columns):\n",
      " #   Column  Non-Null Count  Dtype \n",
      "---  ------  --------------  ----- \n",
      " 0   user    12000 non-null  object\n",
      " 1   Text    12000 non-null  object\n",
      "dtypes: object(2)\n",
      "memory usage: 187.6+ KB\n"
     ]
    }
   ],
   "source": [
    "datasets.info()"
   ]
  },
  {
   "cell_type": "markdown",
   "metadata": {
    "papermill": {
     "duration": 0.057203,
     "end_time": "2020-12-15T16:44:46.182066",
     "exception": false,
     "start_time": "2020-12-15T16:44:46.124863",
     "status": "completed"
    },
    "tags": []
   },
   "source": [
    "* dataset description"
   ]
  },
  {
   "cell_type": "code",
   "execution_count": 7,
   "metadata": {
    "execution": {
     "iopub.execute_input": "2020-12-15T16:44:46.311609Z",
     "iopub.status.busy": "2020-12-15T16:44:46.310925Z",
     "iopub.status.idle": "2020-12-15T16:44:46.356254Z",
     "shell.execute_reply": "2020-12-15T16:44:46.355655Z"
    },
    "papermill": {
     "duration": 0.117055,
     "end_time": "2020-12-15T16:44:46.356373",
     "exception": false,
     "start_time": "2020-12-15T16:44:46.239318",
     "status": "completed"
    },
    "tags": []
   },
   "outputs": [
    {
     "data": {
      "text/html": [
       "<div>\n",
       "<style scoped>\n",
       "    .dataframe tbody tr th:only-of-type {\n",
       "        vertical-align: middle;\n",
       "    }\n",
       "\n",
       "    .dataframe tbody tr th {\n",
       "        vertical-align: top;\n",
       "    }\n",
       "\n",
       "    .dataframe thead th {\n",
       "        text-align: right;\n",
       "    }\n",
       "</style>\n",
       "<table border=\"1\" class=\"dataframe\">\n",
       "  <thead>\n",
       "    <tr style=\"text-align: right;\">\n",
       "      <th></th>\n",
       "      <th>user</th>\n",
       "      <th>Text</th>\n",
       "    </tr>\n",
       "  </thead>\n",
       "  <tbody>\n",
       "    <tr>\n",
       "      <th>count</th>\n",
       "      <td>12000</td>\n",
       "      <td>12000</td>\n",
       "    </tr>\n",
       "    <tr>\n",
       "      <th>unique</th>\n",
       "      <td>10845</td>\n",
       "      <td>8426</td>\n",
       "    </tr>\n",
       "    <tr>\n",
       "      <th>top</th>\n",
       "      <td>tr_mechanical</td>\n",
       "      <td>RT @sapphiresdust: To sum up: the right didn’t...</td>\n",
       "    </tr>\n",
       "    <tr>\n",
       "      <th>freq</th>\n",
       "      <td>57</td>\n",
       "      <td>246</td>\n",
       "    </tr>\n",
       "  </tbody>\n",
       "</table>\n",
       "</div>"
      ],
      "text/plain": [
       "                 user                                               Text\n",
       "count           12000                                              12000\n",
       "unique          10845                                               8426\n",
       "top     tr_mechanical  RT @sapphiresdust: To sum up: the right didn’t...\n",
       "freq               57                                                246"
      ]
     },
     "execution_count": 7,
     "metadata": {},
     "output_type": "execute_result"
    }
   ],
   "source": [
    "datasets.describe()"
   ]
  },
  {
   "cell_type": "markdown",
   "metadata": {
    "papermill": {
     "duration": 0.057405,
     "end_time": "2020-12-15T16:44:46.470914",
     "exception": false,
     "start_time": "2020-12-15T16:44:46.413509",
     "status": "completed"
    },
    "tags": []
   },
   "source": [
    "* Data preprocessing"
   ]
  },
  {
   "cell_type": "code",
   "execution_count": 8,
   "metadata": {
    "execution": {
     "iopub.execute_input": "2020-12-15T16:44:46.596083Z",
     "iopub.status.busy": "2020-12-15T16:44:46.595398Z",
     "iopub.status.idle": "2020-12-15T16:44:46.598181Z",
     "shell.execute_reply": "2020-12-15T16:44:46.598677Z"
    },
    "papermill": {
     "duration": 0.071201,
     "end_time": "2020-12-15T16:44:46.598828",
     "exception": false,
     "start_time": "2020-12-15T16:44:46.527627",
     "status": "completed"
    },
    "tags": []
   },
   "outputs": [
    {
     "data": {
      "text/plain": [
       "user    0\n",
       "Text    0\n",
       "dtype: int64"
      ]
     },
     "execution_count": 8,
     "metadata": {},
     "output_type": "execute_result"
    }
   ],
   "source": [
    "datasets.isnull().sum()"
   ]
  },
  {
   "cell_type": "markdown",
   "metadata": {
    "papermill": {
     "duration": 0.064898,
     "end_time": "2020-12-15T16:44:46.724892",
     "exception": false,
     "start_time": "2020-12-15T16:44:46.659994",
     "status": "completed"
    },
    "tags": []
   },
   "source": [
    "* Getting all Coulmn names"
   ]
  },
  {
   "cell_type": "code",
   "execution_count": 9,
   "metadata": {
    "execution": {
     "iopub.execute_input": "2020-12-15T16:44:46.845028Z",
     "iopub.status.busy": "2020-12-15T16:44:46.844345Z",
     "iopub.status.idle": "2020-12-15T16:44:46.849063Z",
     "shell.execute_reply": "2020-12-15T16:44:46.849603Z"
    },
    "papermill": {
     "duration": 0.066384,
     "end_time": "2020-12-15T16:44:46.849739",
     "exception": false,
     "start_time": "2020-12-15T16:44:46.783355",
     "status": "completed"
    },
    "tags": []
   },
   "outputs": [
    {
     "data": {
      "text/plain": [
       "Index(['user', 'Text'], dtype='object')"
      ]
     },
     "execution_count": 9,
     "metadata": {},
     "output_type": "execute_result"
    }
   ],
   "source": [
    "datasets.columns"
   ]
  },
  {
   "cell_type": "markdown",
   "metadata": {
    "papermill": {
     "duration": 0.058317,
     "end_time": "2020-12-15T16:44:46.966865",
     "exception": false,
     "start_time": "2020-12-15T16:44:46.908548",
     "status": "completed"
    },
    "tags": []
   },
   "source": [
    "# Text Classification"
   ]
  },
  {
   "cell_type": "markdown",
   "metadata": {
    "papermill": {
     "duration": 0.070784,
     "end_time": "2020-12-15T16:44:47.107427",
     "exception": false,
     "start_time": "2020-12-15T16:44:47.036643",
     "status": "completed"
    },
    "tags": []
   },
   "source": [
    "1.  Cleaning the tweets"
   ]
  },
  {
   "cell_type": "markdown",
   "metadata": {
    "papermill": {
     "duration": 0.057343,
     "end_time": "2020-12-15T16:44:47.224674",
     "exception": false,
     "start_time": "2020-12-15T16:44:47.167331",
     "status": "completed"
    },
    "tags": []
   },
   "source": [
    "lemmatization, tokenizing, removing stopwards, punctuations, hashtags and mentions"
   ]
  },
  {
   "cell_type": "code",
   "execution_count": 10,
   "metadata": {
    "execution": {
     "iopub.execute_input": "2020-12-15T16:44:47.343874Z",
     "iopub.status.busy": "2020-12-15T16:44:47.343235Z",
     "iopub.status.idle": "2020-12-15T16:44:47.822151Z",
     "shell.execute_reply": "2020-12-15T16:44:47.822663Z"
    },
    "papermill": {
     "duration": 0.540438,
     "end_time": "2020-12-15T16:44:47.822807",
     "exception": false,
     "start_time": "2020-12-15T16:44:47.282369",
     "status": "completed"
    },
    "tags": []
   },
   "outputs": [
    {
     "data": {
      "text/html": [
       "<div>\n",
       "<style scoped>\n",
       "    .dataframe tbody tr th:only-of-type {\n",
       "        vertical-align: middle;\n",
       "    }\n",
       "\n",
       "    .dataframe tbody tr th {\n",
       "        vertical-align: top;\n",
       "    }\n",
       "\n",
       "    .dataframe thead th {\n",
       "        text-align: right;\n",
       "    }\n",
       "</style>\n",
       "<table border=\"1\" class=\"dataframe\">\n",
       "  <thead>\n",
       "    <tr style=\"text-align: right;\">\n",
       "      <th></th>\n",
       "      <th>user</th>\n",
       "      <th>Text</th>\n",
       "    </tr>\n",
       "  </thead>\n",
       "  <tbody>\n",
       "    <tr>\n",
       "      <th>0</th>\n",
       "      <td>Education1939</td>\n",
       "      <td>this past week the staff recognition committee...</td>\n",
       "    </tr>\n",
       "    <tr>\n",
       "      <th>1</th>\n",
       "      <td>alexanderrusso</td>\n",
       "      <td>evidence shows that schools are not the main...</td>\n",
       "    </tr>\n",
       "    <tr>\n",
       "      <th>2</th>\n",
       "      <td>TaleamSystems</td>\n",
       "      <td>taleam systems ceo implemented the student ere...</td>\n",
       "    </tr>\n",
       "    <tr>\n",
       "      <th>3</th>\n",
       "      <td>javrsda</td>\n",
       "      <td>ya quiero que salga la nueva temporada de sex ...</td>\n",
       "    </tr>\n",
       "    <tr>\n",
       "      <th>4</th>\n",
       "      <td>Calpe19</td>\n",
       "      <td>a great loss what a wonderful enlightened a...</td>\n",
       "    </tr>\n",
       "  </tbody>\n",
       "</table>\n",
       "</div>"
      ],
      "text/plain": [
       "             user                                               Text\n",
       "0   Education1939  this past week the staff recognition committee...\n",
       "1  alexanderrusso    evidence shows that schools are not the main...\n",
       "2   TaleamSystems  taleam systems ceo implemented the student ere...\n",
       "3         javrsda  ya quiero que salga la nueva temporada de sex ...\n",
       "4         Calpe19     a great loss what a wonderful enlightened a..."
      ]
     },
     "execution_count": 10,
     "metadata": {},
     "output_type": "execute_result"
    }
   ],
   "source": [
    "# remove the hashtags, mentions and unwanted characters from the tweet texts\n",
    "def clean_text(df, text_field):\n",
    "    df[text_field] = df[text_field].str.lower()\n",
    "    df[text_field] = df[text_field].apply(lambda elem: re.sub(r\"(@[A-Za-z0-9]+)|([^0-9A-Za-z \\t])|(\\w+:\\/\\/\\S+)|^rt|http.+?\", \"\", elem))  \n",
    "    return df\n",
    "\n",
    "clean_tweets = clean_text(datasets, 'Text')\n",
    "clean_tweets.head()"
   ]
  },
  {
   "cell_type": "markdown",
   "metadata": {
    "papermill": {
     "duration": 0.059242,
     "end_time": "2020-12-15T16:44:47.941001",
     "exception": false,
     "start_time": "2020-12-15T16:44:47.881759",
     "status": "completed"
    },
    "tags": []
   },
   "source": [
    "remove stopwords, punctuations, lemmatize and tokenize word"
   ]
  },
  {
   "cell_type": "code",
   "execution_count": 11,
   "metadata": {
    "execution": {
     "iopub.execute_input": "2020-12-15T16:44:48.061741Z",
     "iopub.status.busy": "2020-12-15T16:44:48.061057Z",
     "iopub.status.idle": "2020-12-15T16:44:52.522971Z",
     "shell.execute_reply": "2020-12-15T16:44:52.521998Z"
    },
    "papermill": {
     "duration": 4.523569,
     "end_time": "2020-12-15T16:44:52.523137",
     "exception": false,
     "start_time": "2020-12-15T16:44:47.999568",
     "status": "completed"
    },
    "tags": []
   },
   "outputs": [
    {
     "name": "stderr",
     "output_type": "stream",
     "text": [
      "/opt/conda/lib/python3.7/site-packages/ipykernel_launcher.py:23: UserWarning: Pandas doesn't allow columns to be created via a new attribute name - see https://pandas.pydata.org/pandas-docs/stable/indexing.html#attribute-access\n"
     ]
    }
   ],
   "source": [
    "\n",
    "#remove stopwords, punctuations, lemmatize and tokenize word\n",
    "# nlp = spacy.load(\"en_core_web_sm\")   #working with english only, no support for swahili\n",
    "nlp = en_core_web_sm.load()\n",
    "tokenizer = RegexpTokenizer(r'\\w+')\n",
    "lemmatizer = WordNetLemmatizer()\n",
    "stop = set(stopwords.words('english'))\n",
    "punctuation = list(string.punctuation) #already taken care of with the cleaning function.\n",
    "stop.update(punctuation)\n",
    "w_tokenizer = WhitespaceTokenizer()\n",
    "\n",
    "            \n",
    "def furnished(text):\n",
    "    final_text = []\n",
    "    for i in w_tokenizer.tokenize(text):\n",
    "#     for i in text.split():\n",
    "        if i.lower() not in stop:\n",
    "            word = lemmatizer.lemmatize(i)\n",
    "            final_text.append(word.lower())\n",
    "    return \" \".join(final_text)\n",
    "\n",
    "\n",
    "            \n",
    "datasets.tweets = datasets.Text.apply(furnished)"
   ]
  },
  {
   "cell_type": "code",
   "execution_count": 12,
   "metadata": {
    "execution": {
     "iopub.execute_input": "2020-12-15T16:44:52.653933Z",
     "iopub.status.busy": "2020-12-15T16:44:52.653256Z",
     "iopub.status.idle": "2020-12-15T16:44:52.657587Z",
     "shell.execute_reply": "2020-12-15T16:44:52.657087Z"
    },
    "papermill": {
     "duration": 0.073099,
     "end_time": "2020-12-15T16:44:52.657703",
     "exception": false,
     "start_time": "2020-12-15T16:44:52.584604",
     "status": "completed"
    },
    "tags": []
   },
   "outputs": [
    {
     "data": {
      "text/html": [
       "<div>\n",
       "<style scoped>\n",
       "    .dataframe tbody tr th:only-of-type {\n",
       "        vertical-align: middle;\n",
       "    }\n",
       "\n",
       "    .dataframe tbody tr th {\n",
       "        vertical-align: top;\n",
       "    }\n",
       "\n",
       "    .dataframe thead th {\n",
       "        text-align: right;\n",
       "    }\n",
       "</style>\n",
       "<table border=\"1\" class=\"dataframe\">\n",
       "  <thead>\n",
       "    <tr style=\"text-align: right;\">\n",
       "      <th></th>\n",
       "      <th>user</th>\n",
       "      <th>Text</th>\n",
       "    </tr>\n",
       "  </thead>\n",
       "  <tbody>\n",
       "    <tr>\n",
       "      <th>995</th>\n",
       "      <td>donnamacknair</td>\n",
       "      <td>to sum up the right didnt bat an eye at mela...</td>\n",
       "    </tr>\n",
       "    <tr>\n",
       "      <th>9078</th>\n",
       "      <td>Holy_Shrimp1</td>\n",
       "      <td>izzy is one of the best in the sport change ...</td>\n",
       "    </tr>\n",
       "    <tr>\n",
       "      <th>8988</th>\n",
       "      <td>JenLeeCBC</td>\n",
       "      <td>just scrummed with reporters and said if th...</td>\n",
       "    </tr>\n",
       "    <tr>\n",
       "      <th>3970</th>\n",
       "      <td>SMVEC2</td>\n",
       "      <td>smvec smvecplacement smvecmechanical</td>\n",
       "    </tr>\n",
       "    <tr>\n",
       "      <th>3479</th>\n",
       "      <td>Traveller_Makk</td>\n",
       "      <td>ras</td>\n",
       "    </tr>\n",
       "  </tbody>\n",
       "</table>\n",
       "</div>"
      ],
      "text/plain": [
       "                user                                               Text\n",
       "995    donnamacknair    to sum up the right didnt bat an eye at mela...\n",
       "9078    Holy_Shrimp1    izzy is one of the best in the sport change ...\n",
       "8988       JenLeeCBC     just scrummed with reporters and said if th...\n",
       "3970          SMVEC2              smvec smvecplacement smvecmechanical \n",
       "3479  Traveller_Makk                                            ras    "
      ]
     },
     "execution_count": 12,
     "metadata": {},
     "output_type": "execute_result"
    }
   ],
   "source": [
    "datasets.sample(5)"
   ]
  },
  {
   "cell_type": "markdown",
   "metadata": {
    "papermill": {
     "duration": 0.05995,
     "end_time": "2020-12-15T16:44:52.777046",
     "exception": false,
     "start_time": "2020-12-15T16:44:52.717096",
     "status": "completed"
    },
    "tags": []
   },
   "source": [
    " 2. Defining the set of words."
   ]
  },
  {
   "cell_type": "markdown",
   "metadata": {
    "papermill": {
     "duration": 0.059797,
     "end_time": "2020-12-15T16:44:52.897168",
     "exception": false,
     "start_time": "2020-12-15T16:44:52.837371",
     "status": "completed"
    },
    "tags": []
   },
   "source": [
    "Related Words runs on several different algorithms which compete to get their results higher in the list. One such algorithm uses ***word embedding*** to convert words into many dimensional vectors which represent their meanings\n",
    "\n",
    "Word embedding is any of a set of language modeling and feature learning techniques in natural language processing (NLP) where words or phrases from the vocabulary are mapped to vectors of real numbers. Conceptually it involves a mathematical embedding from a space with many dimensions per word to a continuous vector space with a much lower dimension.\n",
    "\n",
    "Link to obtain Related Words: https://relatedwords.org/"
   ]
  },
  {
   "cell_type": "code",
   "execution_count": 13,
   "metadata": {
    "execution": {
     "iopub.execute_input": "2020-12-15T16:44:53.025752Z",
     "iopub.status.busy": "2020-12-15T16:44:53.024563Z",
     "iopub.status.idle": "2020-12-15T16:44:53.028170Z",
     "shell.execute_reply": "2020-12-15T16:44:53.027561Z"
    },
    "papermill": {
     "duration": 0.070513,
     "end_time": "2020-12-15T16:44:53.028299",
     "exception": false,
     "start_time": "2020-12-15T16:44:52.957786",
     "status": "completed"
    },
    "tags": []
   },
   "outputs": [],
   "source": [
    "sport_related_words = '''game disport play foul player mountaineer hunt fence archery sportive fencing jest SUV Boxer sporting\n",
    "sporty pastime fishing attack big game falconry gaud sportless ring sports sailing cross-country hunting skateboarding\n",
    "caving shikar ski surfing turf lake racing preserve\n",
    "professional box angling discus spectator sport toy dive pothunter boxing foil crew shoot pro course fisherman skiing fun rowing fancy\n",
    "hunter trapshooting skating mock judo sportswear mountaineering lark cycling running riding action sport bowl\n",
    "waggish sportful field multisport yachting titlist blood sport race snowboarding javelin sportsmanship wanton weightlifting mockery racket put fan shooting sail law\n",
    "letter championship coursing sporting fish skylark speed skating amateur laugh sports diving ploy climber climb sports diver season\n",
    "kendo letterman swordsman chase daff hammer ballooning surfboarding run wrestle angler the chase fandom paragliding semiprofessional mimic runner quarry slalom game fish\n",
    "activewear scuba diving trainer sportswoman venery luge score tobogganing kiteboarding autocross harlequin wrestling major league unsportsmanlike bait ball junior\n",
    "sportfishing hack synchronized swimming windsurfing falconer train crown stuff defender SUB sky divingtyro\n",
    "pickerel marlin gymnastics crewman netball rage challenge coasteering aficionado langlauf dandiprat spike fool rulebook cave fox hunt\n",
    "wrestler blinder sport vehicle track team joke tubing extreme freediving game bird horse riding referee\n",
    "snowmobiling kit rallying fall sportsperson DCMS speleology marlock rodeo kickball tussle spelunking slump pot racquetball canoeing block dodgeball turn pro\n",
    "broomball commissioner celebrity fumble the top flight sported split time fencer horse racing sport fish\n",
    "goody fox-hunting artistry all-rounder skeleton pro shop ice-skating duffer trash-talk spot bobsledding gamy pig-sticking retire\n",
    "surfer fight misplay rabbit sporting celebrity harness racing survivalist preseason\n",
    "sack try out fisher archer bouldering Dove devotee convert camogie mixed martial arts sim suit up mimicry throw hustle canyoneering sabre hoax pheasant dummy ringed rang AIS territory double bouncebackability mumm extreme sport rung sportingly\n",
    "jape fratch gamer scrimmage sideline ridicule bantam riflery widow close season base \n",
    "jumping allAmerican record  mountainboarding skijoring penalty gamesome merrymaking '''\n"
   ]
  },
  {
   "cell_type": "code",
   "execution_count": 14,
   "metadata": {
    "execution": {
     "iopub.execute_input": "2020-12-15T16:44:53.174612Z",
     "iopub.status.busy": "2020-12-15T16:44:53.173516Z",
     "iopub.status.idle": "2020-12-15T16:44:53.175969Z",
     "shell.execute_reply": "2020-12-15T16:44:53.176559Z"
    },
    "papermill": {
     "duration": 0.077352,
     "end_time": "2020-12-15T16:44:53.176688",
     "exception": false,
     "start_time": "2020-12-15T16:44:53.099336",
     "status": "completed"
    },
    "tags": []
   },
   "outputs": [],
   "source": [
    "health_related_words = '''disease obesity world health organization medicine nutrition well-being exercise welfare wellness health care public health \n",
    "                     nursing stress safety hygiene research social healthy condition aids epidemiology healthiness wellbeing\n",
    "                     care illness medical dieteducation infectious disease environmental healthcare physical fitness hospitals \n",
    "                     health care provider doctors healthy community design insurance sanitation human body patient mental health\n",
    "                      medicare agriculture health science fitnesshealth policy  weight loss physical therapy psychology pharmacy\n",
    "                     metabolic organism human lifestyle status unhealthy upbeat vaccination sleep condom alcohol smoking water family\n",
    "                     eudaimonia eudaemonia air house prevention genetics public families poor needs treatment communicable disease \n",
    "                     study protection malaria development food priority management healthful mental provide department administration\n",
    "                     programs help assistance funding environment improving emergency need program affected schools private mental illness \n",
    "                     treat diseases preparedness perinatal fertility sickness veterinary sanitary pharmacists behavioral midwives\n",
    "                     gerontology infertility hospitalization midwifery cholesterol childcare pediatrician pediatrics medicaid asthma \n",
    "                     pensions sicknesses push-up physical education body-mass-index eat well gymnastic apparatus tune up good morning \n",
    "                     bathing low blood-pressure heart attack health club ride-bike you feel good eczema urticaria dermatitis sunburn overwork \n",
    "                     manufacturing medical sociology need exercise run'''"
   ]
  },
  {
   "cell_type": "code",
   "execution_count": 15,
   "metadata": {
    "execution": {
     "iopub.execute_input": "2020-12-15T16:44:53.300166Z",
     "iopub.status.busy": "2020-12-15T16:44:53.299189Z",
     "iopub.status.idle": "2020-12-15T16:44:53.305279Z",
     "shell.execute_reply": "2020-12-15T16:44:53.304714Z"
    },
    "papermill": {
     "duration": 0.068787,
     "end_time": "2020-12-15T16:44:53.305396",
     "exception": false,
     "start_time": "2020-12-15T16:44:53.236609",
     "status": "completed"
    },
    "tags": []
   },
   "outputs": [],
   "source": [
    "education_related_words = '''teaching pedagogy instruction school curriculum learning college\n",
    "university educational activity didactics vocational education kindergarten department of education\n",
    "secondary education training secondary school knowledge education department scholarship literacy\n",
    "special education schooling tuition teacher student undergraduate academic homeschooling higher education\n",
    "adult skill high school experience medicine science humanities coeducation educational\n",
    "autodidacticism lesson research society course profession homework breeding primary school classwork\n",
    "classroom preschool lyceum middle school educationist junior school apprenticeship europe confucius\n",
    "programs health welfare vocational colleges teachers students basic universities vocational training\n",
    "professor funding institutes arts courses classes graduates unesco entrepreneurship management elementary school\n",
    "graduate school diploma agriculture academic degree open university primary education public school\n",
    "education for all internet liberal arts tertiary education mathematics syllabus socialization montessori method\n",
    "value belief habit storytelling discussion formality etymologically homonym plato mastering\n",
    "class preparation assimilation grounding erudition enlightenment activity prep foundation content\n",
    "acculturation upbringing acquisition extension alexandria united states country china analects world\n",
    "educate didactic caliphate generation indus pedagogical teach teachable scholar scholarly democracy schools\n",
    "self-cultivation self-education encyclopaedism eruditeness encyclopedism learnedness educative instructional social\n",
    "'''"
   ]
  },
  {
   "cell_type": "code",
   "execution_count": 16,
   "metadata": {
    "execution": {
     "iopub.execute_input": "2020-12-15T16:44:53.431634Z",
     "iopub.status.busy": "2020-12-15T16:44:53.430853Z",
     "iopub.status.idle": "2020-12-15T16:44:53.433647Z",
     "shell.execute_reply": "2020-12-15T16:44:53.433162Z"
    },
    "papermill": {
     "duration": 0.068217,
     "end_time": "2020-12-15T16:44:53.433753",
     "exception": false,
     "start_time": "2020-12-15T16:44:53.365536",
     "status": "completed"
    },
    "tags": []
   },
   "outputs": [],
   "source": [
    "mechanical_related_words  = ''' mechanistic technical mechanic automatic machine machinery device\n",
    "apparatus mechanically skillful engine automation mechanized robotic gear equipment windup robotlike machinelike\n",
    "automatonlike turbine electrical electromechanical hydraulic faulty tool structural pneumatic technician\n",
    "malfunctioning mechanised machinist automaton mechanism automate cyborg mechanics welding zamboni\n",
    "contraption engineering instrument technique systems malfunction simulator hydraulics techniques\n",
    "invention components decoder processes brake system design electric physical tools vibration wiring\n",
    "invented method engineers pulley computational precision developed measurement braking used uses dynamics\n",
    "methods devices gravity robot machines conditioning combustion magnetic fluid malfunctions plumbing using\n",
    "thermal maintenance bearings conventional mathematical applied instrumentation instruments experimental\n",
    "propulsion quantum skill specialized skills experiments cognitive defects breathing basic sensors vacuum\n",
    "involves transmission theory combination tire processing characteristics repair utilizing type\n",
    "aerodynamics memory boiler circuitry valve use simulation\n",
    "'''"
   ]
  },
  {
   "cell_type": "markdown",
   "metadata": {
    "papermill": {
     "duration": 0.060197,
     "end_time": "2020-12-15T16:44:53.554044",
     "exception": false,
     "start_time": "2020-12-15T16:44:53.493847",
     "status": "completed"
    },
    "tags": []
   },
   "source": [
    "\n",
    "3. Preprocessing the datasets"
   ]
  },
  {
   "cell_type": "markdown",
   "metadata": {
    "papermill": {
     "duration": 0.060153,
     "end_time": "2020-12-15T16:44:53.675041",
     "exception": false,
     "start_time": "2020-12-15T16:44:53.614888",
     "status": "completed"
    },
    "tags": []
   },
   "source": [
    "Tokenizing and removing stop words from the datasets"
   ]
  },
  {
   "cell_type": "code",
   "execution_count": 17,
   "metadata": {
    "execution": {
     "iopub.execute_input": "2020-12-15T16:44:53.800868Z",
     "iopub.status.busy": "2020-12-15T16:44:53.799842Z",
     "iopub.status.idle": "2020-12-15T16:44:54.794597Z",
     "shell.execute_reply": "2020-12-15T16:44:54.793751Z"
    },
    "papermill": {
     "duration": 1.058457,
     "end_time": "2020-12-15T16:44:54.794716",
     "exception": false,
     "start_time": "2020-12-15T16:44:53.736259",
     "status": "completed"
    },
    "tags": []
   },
   "outputs": [],
   "source": [
    "nlp = en_core_web_sm.load()\n",
    "tokenizer = RegexpTokenizer(r'\\w+')\n",
    "lemmatizer = WordNetLemmatizer()\n",
    "stop = set(stopwords.words('english'))\n",
    "punctuation = list(string.punctuation)\n",
    "stop.update(punctuation)\n",
    "w_tokenizer = WhitespaceTokenizer()\n",
    "\n",
    "# clean the set of words\n",
    "            \n",
    "def furnished(text):\n",
    "    final_text = []\n",
    "    for i in text.split():\n",
    "        if i.lower() not in stop:\n",
    "            word = lemmatizer.lemmatize(i)\n",
    "            final_text.append(word.lower())\n",
    "    return \" \".join(final_text)"
   ]
  },
  {
   "cell_type": "code",
   "execution_count": 18,
   "metadata": {
    "execution": {
     "iopub.execute_input": "2020-12-15T16:44:54.928461Z",
     "iopub.status.busy": "2020-12-15T16:44:54.927640Z",
     "iopub.status.idle": "2020-12-15T16:44:54.930966Z",
     "shell.execute_reply": "2020-12-15T16:44:54.930287Z"
    },
    "papermill": {
     "duration": 0.075577,
     "end_time": "2020-12-15T16:44:54.931090",
     "exception": false,
     "start_time": "2020-12-15T16:44:54.855513",
     "status": "completed"
    },
    "tags": []
   },
   "outputs": [],
   "source": [
    "sport = furnished(sport_related_words)\n",
    "health = furnished(health_related_words)\n",
    "education = furnished(education_related_words)\n",
    "mechanical = furnished(mechanical_related_words)\n",
    "\n"
   ]
  },
  {
   "cell_type": "markdown",
   "metadata": {
    "papermill": {
     "duration": 0.061244,
     "end_time": "2020-12-15T16:44:55.053306",
     "exception": false,
     "start_time": "2020-12-15T16:44:54.992062",
     "status": "completed"
    },
    "tags": []
   },
   "source": [
    "Removing duplicates"
   ]
  },
  {
   "cell_type": "code",
   "execution_count": 19,
   "metadata": {
    "execution": {
     "iopub.execute_input": "2020-12-15T16:44:55.182802Z",
     "iopub.status.busy": "2020-12-15T16:44:55.181753Z",
     "iopub.status.idle": "2020-12-15T16:44:55.185459Z",
     "shell.execute_reply": "2020-12-15T16:44:55.185979Z"
    },
    "papermill": {
     "duration": 0.072044,
     "end_time": "2020-12-15T16:44:55.186117",
     "exception": false,
     "start_time": "2020-12-15T16:44:55.114073",
     "status": "completed"
    },
    "tags": []
   },
   "outputs": [
    {
     "data": {
      "text/plain": [
       "'game disport play foul player mountaineer hunt fence archery sportive fencing jest suv boxer sporting sporty pastime fishing attack big falconry gaud sportless ring sport sailing cross-country hunting skateboarding caving shikar ski surfing turf lake racing preserve professional box angling discus spectator toy dive pothunter boxing foil crew shoot pro course fisherman skiing fun rowing fancy hunter trapshooting skating mock judo sportswear mountaineering lark cycling running riding action bowl waggish sportful field multisport yachting titlist blood race snowboarding javelin sportsmanship wanton weightlifting mockery racket put fan shooting sail law letter championship coursing fish skylark speed amateur laugh diving ploy climber climb diver season kendo letterman swordsman chase daff hammer ballooning surfboarding run wrestle angler fandom paragliding semiprofessional mimic runner quarry slalom activewear scuba trainer sportswoman venery luge score tobogganing kiteboarding autocross harlequin wrestling major league unsportsmanlike bait ball junior sportfishing hack synchronized swimming windsurfing falconer train crown stuff defender sub sky divingtyro pickerel marlin gymnastics crewman netball rage challenge coasteering aficionado langlauf dandiprat spike fool rulebook cave fox wrestler blinder vehicle track team joke tubing extreme freediving bird horse referee snowmobiling kit rallying fall sportsperson dcms speleology marlock rodeo kickball tussle spelunking slump pot racquetball canoeing block dodgeball turn broomball commissioner celebrity fumble top flight sported split time fencer goody fox-hunting artistry all-rounder skeleton shop ice-skating duffer trash-talk spot bobsledding gamy pig-sticking retire surfer fight misplay rabbit harness survivalist preseason sack try fisher archer bouldering dove devotee convert camogie mixed martial art sim suit mimicry throw hustle canyoneering sabre hoax pheasant dummy ringed rang ais territory double bouncebackability mumm rung sportingly jape fratch gamer scrimmage sideline ridicule bantam riflery widow close base jumping allamerican record mountainboarding skijoring penalty gamesome merrymaking'"
      ]
     },
     "execution_count": 19,
     "metadata": {},
     "output_type": "execute_result"
    }
   ],
   "source": [
    "string1 = sport\n",
    "words = string1.split()\n",
    "sport = \" \".join(sorted(set(words), key=words.index))\n",
    "sport"
   ]
  },
  {
   "cell_type": "code",
   "execution_count": 20,
   "metadata": {
    "execution": {
     "iopub.execute_input": "2020-12-15T16:44:55.314980Z",
     "iopub.status.busy": "2020-12-15T16:44:55.313911Z",
     "iopub.status.idle": "2020-12-15T16:44:55.318462Z",
     "shell.execute_reply": "2020-12-15T16:44:55.317803Z"
    },
    "papermill": {
     "duration": 0.071965,
     "end_time": "2020-12-15T16:44:55.318569",
     "exception": false,
     "start_time": "2020-12-15T16:44:55.246604",
     "status": "completed"
    },
    "tags": []
   },
   "outputs": [
    {
     "data": {
      "text/plain": [
       "'disease obesity world health organization medicine nutrition well-being exercise welfare wellness care public nursing stress safety hygiene research social healthy condition aid epidemiology healthiness wellbeing illness medical dieteducation infectious environmental healthcare physical fitness hospital provider doctor community design insurance sanitation human body patient mental medicare agriculture science fitnesshealth policy weight loss therapy psychology pharmacy metabolic organism lifestyle status unhealthy upbeat vaccination sleep condom alcohol smoking water family eudaimonia eudaemonia air house prevention genetics poor need treatment communicable study protection malaria development food priority management healthful provide department administration program help assistance funding environment improving emergency affected school private treat preparedness perinatal fertility sickness veterinary sanitary pharmacist behavioral midwife gerontology infertility hospitalization midwifery cholesterol childcare pediatrician pediatrics medicaid asthma pension push-up education body-mass-index eat well gymnastic apparatus tune good morning bathing low blood-pressure heart attack club ride-bike feel eczema urticaria dermatitis sunburn overwork manufacturing sociology run'"
      ]
     },
     "execution_count": 20,
     "metadata": {},
     "output_type": "execute_result"
    }
   ],
   "source": [
    "string1 = health\n",
    "words = string1.split()\n",
    "health = \" \".join(sorted(set(words), key=words.index))\n",
    "health"
   ]
  },
  {
   "cell_type": "code",
   "execution_count": 21,
   "metadata": {
    "execution": {
     "iopub.execute_input": "2020-12-15T16:44:55.448727Z",
     "iopub.status.busy": "2020-12-15T16:44:55.447723Z",
     "iopub.status.idle": "2020-12-15T16:44:55.452388Z",
     "shell.execute_reply": "2020-12-15T16:44:55.451756Z"
    },
    "papermill": {
     "duration": 0.072399,
     "end_time": "2020-12-15T16:44:55.452492",
     "exception": false,
     "start_time": "2020-12-15T16:44:55.380093",
     "status": "completed"
    },
    "tags": []
   },
   "outputs": [
    {
     "data": {
      "text/plain": [
       "'teaching pedagogy instruction school curriculum learning college university educational activity didactics vocational education kindergarten department secondary training knowledge scholarship literacy special schooling tuition teacher student undergraduate academic homeschooling higher adult skill high experience medicine science humanity coeducation autodidacticism lesson research society course profession homework breeding primary classwork classroom preschool lyceum middle educationist junior apprenticeship europe confucius program health welfare basic professor funding institute art class graduate unesco entrepreneurship management elementary diploma agriculture degree open public internet liberal tertiary mathematics syllabus socialization montessori method value belief habit storytelling discussion formality etymologically homonym plato mastering preparation assimilation grounding erudition enlightenment prep foundation content acculturation upbringing acquisition extension alexandria united state country china analects world educate didactic caliphate generation indus pedagogical teach teachable scholar scholarly democracy self-cultivation self-education encyclopaedism eruditeness encyclopedism learnedness educative instructional social'"
      ]
     },
     "execution_count": 21,
     "metadata": {},
     "output_type": "execute_result"
    }
   ],
   "source": [
    "# delete duplicates\n",
    "string1 = education\n",
    "words = string1.split()\n",
    "education = \" \".join(sorted(set(words), key=words.index))\n",
    "education"
   ]
  },
  {
   "cell_type": "code",
   "execution_count": 22,
   "metadata": {
    "execution": {
     "iopub.execute_input": "2020-12-15T16:44:55.584757Z",
     "iopub.status.busy": "2020-12-15T16:44:55.583750Z",
     "iopub.status.idle": "2020-12-15T16:44:55.587406Z",
     "shell.execute_reply": "2020-12-15T16:44:55.587918Z"
    },
    "papermill": {
     "duration": 0.073794,
     "end_time": "2020-12-15T16:44:55.588053",
     "exception": false,
     "start_time": "2020-12-15T16:44:55.514259",
     "status": "completed"
    },
    "tags": []
   },
   "outputs": [
    {
     "data": {
      "text/plain": [
       "'mechanistic technical mechanic automatic machine machinery device apparatus mechanically skillful engine automation mechanized robotic gear equipment windup robotlike machinelike automatonlike turbine electrical electromechanical hydraulic faulty tool structural pneumatic technician malfunctioning mechanised machinist automaton mechanism automate cyborg welding zamboni contraption engineering instrument technique system malfunction simulator hydraulics invention component decoder process brake design electric physical vibration wiring invented method engineer pulley computational precision developed measurement braking used us dynamic gravity robot conditioning combustion magnetic fluid plumbing using thermal maintenance bearing conventional mathematical applied instrumentation experimental propulsion quantum skill specialized experiment cognitive defect breathing basic sensor vacuum involves transmission theory combination tire processing characteristic repair utilizing type aerodynamics memory boiler circuitry valve use simulation'"
      ]
     },
     "execution_count": 22,
     "metadata": {},
     "output_type": "execute_result"
    }
   ],
   "source": [
    "string1 = mechanical\n",
    "words = string1.split()\n",
    "mechanical = \" \".join(sorted(set(words), key=words.index))\n",
    "mechanical"
   ]
  },
  {
   "cell_type": "markdown",
   "metadata": {
    "papermill": {
     "duration": 0.062187,
     "end_time": "2020-12-15T16:44:55.712663",
     "exception": false,
     "start_time": "2020-12-15T16:44:55.650476",
     "status": "completed"
    },
    "tags": []
   },
   "source": [
    "\n",
    "4. Vectorizing and Standadization.¶\n"
   ]
  },
  {
   "cell_type": "markdown",
   "metadata": {
    "papermill": {
     "duration": 0.062785,
     "end_time": "2020-12-15T16:44:55.838159",
     "exception": false,
     "start_time": "2020-12-15T16:44:55.775374",
     "status": "completed"
    },
    "tags": []
   },
   "source": [
    "Vectorizing the sets of words, then standardizing them. TFIDF will be used in order to take care of the least frequent words. Standardizing is cause TFIDF favors long sentences and there'll be inconsistencies between the length of the tweets and the length of set of words.\n"
   ]
  },
  {
   "cell_type": "code",
   "execution_count": 23,
   "metadata": {
    "execution": {
     "iopub.execute_input": "2020-12-15T16:44:55.970779Z",
     "iopub.status.busy": "2020-12-15T16:44:55.970114Z",
     "iopub.status.idle": "2020-12-15T16:44:55.973194Z",
     "shell.execute_reply": "2020-12-15T16:44:55.972574Z"
    },
    "papermill": {
     "duration": 0.072375,
     "end_time": "2020-12-15T16:44:55.973305",
     "exception": false,
     "start_time": "2020-12-15T16:44:55.900930",
     "status": "completed"
    },
    "tags": []
   },
   "outputs": [],
   "source": [
    "def get_vectors(*strs):\n",
    "    text = [t for t in strs]\n",
    "    vectorizer = TfidfVectorizer(text)\n",
    "    vectorizer.fit(text)\n",
    "    return vectorizer.transform(text).toarray()"
   ]
  },
  {
   "cell_type": "code",
   "execution_count": 24,
   "metadata": {
    "execution": {
     "iopub.execute_input": "2020-12-15T16:44:56.103547Z",
     "iopub.status.busy": "2020-12-15T16:44:56.102842Z",
     "iopub.status.idle": "2020-12-15T16:44:56.130349Z",
     "shell.execute_reply": "2020-12-15T16:44:56.129612Z"
    },
    "papermill": {
     "duration": 0.094616,
     "end_time": "2020-12-15T16:44:56.130468",
     "exception": false,
     "start_time": "2020-12-15T16:44:56.035852",
     "status": "completed"
    },
    "tags": []
   },
   "outputs": [
    {
     "name": "stderr",
     "output_type": "stream",
     "text": [
      "/opt/conda/lib/python3.7/site-packages/sklearn/utils/validation.py:70: FutureWarning: Pass input=['game disport play foul player mountaineer hunt fence archery sportive fencing jest suv boxer sporting sporty pastime fishing attack big falconry gaud sportless ring sport sailing cross-country hunting skateboarding caving shikar ski surfing turf lake racing preserve professional box angling discus spectator toy dive pothunter boxing foil crew shoot pro course fisherman skiing fun rowing fancy hunter trapshooting skating mock judo sportswear mountaineering lark cycling running riding action bowl waggish sportful field multisport yachting titlist blood race snowboarding javelin sportsmanship wanton weightlifting mockery racket put fan shooting sail law letter championship coursing fish skylark speed amateur laugh diving ploy climber climb diver season kendo letterman swordsman chase daff hammer ballooning surfboarding run wrestle angler fandom paragliding semiprofessional mimic runner quarry slalom activewear scuba trainer sportswoman venery luge score tobogganing kiteboarding autocross harlequin wrestling major league unsportsmanlike bait ball junior sportfishing hack synchronized swimming windsurfing falconer train crown stuff defender sub sky divingtyro pickerel marlin gymnastics crewman netball rage challenge coasteering aficionado langlauf dandiprat spike fool rulebook cave fox wrestler blinder vehicle track team joke tubing extreme freediving bird horse referee snowmobiling kit rallying fall sportsperson dcms speleology marlock rodeo kickball tussle spelunking slump pot racquetball canoeing block dodgeball turn broomball commissioner celebrity fumble top flight sported split time fencer goody fox-hunting artistry all-rounder skeleton shop ice-skating duffer trash-talk spot bobsledding gamy pig-sticking retire surfer fight misplay rabbit harness survivalist preseason sack try fisher archer bouldering dove devotee convert camogie mixed martial art sim suit mimicry throw hustle canyoneering sabre hoax pheasant dummy ringed rang ais territory double bouncebackability mumm rung sportingly jape fratch gamer scrimmage sideline ridicule bantam riflery widow close base jumping allamerican record mountainboarding skijoring penalty gamesome merrymaking'] as keyword args. From version 0.25 passing these as positional arguments will result in an error\n",
      "  FutureWarning)\n",
      "/opt/conda/lib/python3.7/site-packages/sklearn/utils/validation.py:70: FutureWarning: Pass input=['disease obesity world health organization medicine nutrition well-being exercise welfare wellness care public nursing stress safety hygiene research social healthy condition aid epidemiology healthiness wellbeing illness medical dieteducation infectious environmental healthcare physical fitness hospital provider doctor community design insurance sanitation human body patient mental medicare agriculture science fitnesshealth policy weight loss therapy psychology pharmacy metabolic organism lifestyle status unhealthy upbeat vaccination sleep condom alcohol smoking water family eudaimonia eudaemonia air house prevention genetics poor need treatment communicable study protection malaria development food priority management healthful provide department administration program help assistance funding environment improving emergency affected school private treat preparedness perinatal fertility sickness veterinary sanitary pharmacist behavioral midwife gerontology infertility hospitalization midwifery cholesterol childcare pediatrician pediatrics medicaid asthma pension push-up education body-mass-index eat well gymnastic apparatus tune good morning bathing low blood-pressure heart attack club ride-bike feel eczema urticaria dermatitis sunburn overwork manufacturing sociology run'] as keyword args. From version 0.25 passing these as positional arguments will result in an error\n",
      "  FutureWarning)\n",
      "/opt/conda/lib/python3.7/site-packages/sklearn/utils/validation.py:70: FutureWarning: Pass input=['teaching pedagogy instruction school curriculum learning college university educational activity didactics vocational education kindergarten department secondary training knowledge scholarship literacy special schooling tuition teacher student undergraduate academic homeschooling higher adult skill high experience medicine science humanity coeducation autodidacticism lesson research society course profession homework breeding primary classwork classroom preschool lyceum middle educationist junior apprenticeship europe confucius program health welfare basic professor funding institute art class graduate unesco entrepreneurship management elementary diploma agriculture degree open public internet liberal tertiary mathematics syllabus socialization montessori method value belief habit storytelling discussion formality etymologically homonym plato mastering preparation assimilation grounding erudition enlightenment prep foundation content acculturation upbringing acquisition extension alexandria united state country china analects world educate didactic caliphate generation indus pedagogical teach teachable scholar scholarly democracy self-cultivation self-education encyclopaedism eruditeness encyclopedism learnedness educative instructional social'] as keyword args. From version 0.25 passing these as positional arguments will result in an error\n",
      "  FutureWarning)\n",
      "/opt/conda/lib/python3.7/site-packages/sklearn/utils/validation.py:70: FutureWarning: Pass input=['mechanistic technical mechanic automatic machine machinery device apparatus mechanically skillful engine automation mechanized robotic gear equipment windup robotlike machinelike automatonlike turbine electrical electromechanical hydraulic faulty tool structural pneumatic technician malfunctioning mechanised machinist automaton mechanism automate cyborg welding zamboni contraption engineering instrument technique system malfunction simulator hydraulics invention component decoder process brake design electric physical vibration wiring invented method engineer pulley computational precision developed measurement braking used us dynamic gravity robot conditioning combustion magnetic fluid plumbing using thermal maintenance bearing conventional mathematical applied instrumentation experimental propulsion quantum skill specialized experiment cognitive defect breathing basic sensor vacuum involves transmission theory combination tire processing characteristic repair utilizing type aerodynamics memory boiler circuitry valve use simulation'] as keyword args. From version 0.25 passing these as positional arguments will result in an error\n",
      "  FutureWarning)\n"
     ]
    }
   ],
   "source": [
    "sport_vector = get_vectors(sport)\n",
    "health_vector = get_vectors(health)\n",
    "education_vector = get_vectors(education)\n",
    "mechanical_vector = get_vectors(mechanical)\n"
   ]
  },
  {
   "cell_type": "code",
   "execution_count": 25,
   "metadata": {
    "execution": {
     "iopub.execute_input": "2020-12-15T16:44:56.275284Z",
     "iopub.status.busy": "2020-12-15T16:44:56.270160Z",
     "iopub.status.idle": "2020-12-15T16:44:56.528876Z",
     "shell.execute_reply": "2020-12-15T16:44:56.528278Z"
    },
    "papermill": {
     "duration": 0.335356,
     "end_time": "2020-12-15T16:44:56.529011",
     "exception": false,
     "start_time": "2020-12-15T16:44:56.193655",
     "status": "completed"
    },
    "tags": []
   },
   "outputs": [],
   "source": [
    "## Vectorizing the tweets\n",
    "tv=TfidfVectorizer()\n",
    "# tweets_bowl = tweets_bowl.tweets.apply(get_vectors)\n",
    "# tweets_bowl.head()\n",
    "tfidf_tweets =tv.fit_transform(datasets.tweets)"
   ]
  },
  {
   "cell_type": "markdown",
   "metadata": {
    "papermill": {
     "duration": 0.063112,
     "end_time": "2020-12-15T16:44:56.656506",
     "exception": false,
     "start_time": "2020-12-15T16:44:56.593394",
     "status": "completed"
    },
    "tags": []
   },
   "source": [
    "# Jaccard Similarity"
   ]
  },
  {
   "cell_type": "markdown",
   "metadata": {
    "papermill": {
     "duration": 0.062803,
     "end_time": "2020-12-15T16:44:56.782329",
     "exception": false,
     "start_time": "2020-12-15T16:44:56.719526",
     "status": "completed"
    },
    "tags": []
   },
   "source": [
    "Jaccard similarity is good for cases where duplication does not matter, \n",
    "cosine similarity is good for cases where duplication matters while analyzing text similarity. For two product descriptions, \n",
    "it will be better to use Jaccard similarity as repetition of a word does not reduce their similarity.\n"
   ]
  },
  {
   "cell_type": "code",
   "execution_count": 26,
   "metadata": {
    "execution": {
     "iopub.execute_input": "2020-12-15T16:44:56.918511Z",
     "iopub.status.busy": "2020-12-15T16:44:56.917842Z",
     "iopub.status.idle": "2020-12-15T16:44:56.920721Z",
     "shell.execute_reply": "2020-12-15T16:44:56.920104Z"
    },
    "papermill": {
     "duration": 0.074508,
     "end_time": "2020-12-15T16:44:56.920843",
     "exception": false,
     "start_time": "2020-12-15T16:44:56.846335",
     "status": "completed"
    },
    "tags": []
   },
   "outputs": [],
   "source": [
    "\n",
    "def jaccard_similarity(query, document):\n",
    "    intersection = set(query).intersection(set(document))\n",
    "    union = set(query).union(set(document))\n",
    "    return len(intersection)/len(union)\n",
    "# jaccard_score(socialvector, economic_vector)\n",
    "\n",
    "#for similarity of 1 and 2 of column1\n",
    "# jaccard_similarity('dog lion a dog','dog is cat')\n",
    "\n",
    "\n",
    "def get_scores(group,tweets):\n",
    "    scores = []\n",
    "    for tweet in tweets:\n",
    "        s = jaccard_similarity(group, tweet)\n",
    "        scores.append(s)\n",
    "    return scores"
   ]
  },
  {
   "cell_type": "code",
   "execution_count": 27,
   "metadata": {
    "execution": {
     "iopub.execute_input": "2020-12-15T16:44:57.072254Z",
     "iopub.status.busy": "2020-12-15T16:44:57.061800Z",
     "iopub.status.idle": "2020-12-15T16:44:57.683916Z",
     "shell.execute_reply": "2020-12-15T16:44:57.683291Z"
    },
    "papermill": {
     "duration": 0.698696,
     "end_time": "2020-12-15T16:44:57.684041",
     "exception": false,
     "start_time": "2020-12-15T16:44:56.985345",
     "status": "completed"
    },
    "tags": []
   },
   "outputs": [
    {
     "data": {
      "text/plain": [
       "[0.75,\n",
       " 0.7142857142857143,\n",
       " 0.7241379310344828,\n",
       " 0.6666666666666666,\n",
       " 0.6428571428571429,\n",
       " 0.7857142857142857,\n",
       " 0.75,\n",
       " 0.6428571428571429,\n",
       " 0.42857142857142855,\n",
       " 0.5]"
      ]
     },
     "execution_count": 27,
     "metadata": {},
     "output_type": "execute_result"
    }
   ],
   "source": [
    "#sport scores\n",
    "sp_scores = get_scores(sport, datasets.tweets.to_list())\n",
    "sp_scores[:10]"
   ]
  },
  {
   "cell_type": "code",
   "execution_count": 28,
   "metadata": {
    "execution": {
     "iopub.execute_input": "2020-12-15T16:44:57.859363Z",
     "iopub.status.busy": "2020-12-15T16:44:57.838755Z",
     "iopub.status.idle": "2020-12-15T16:44:58.261622Z",
     "shell.execute_reply": "2020-12-15T16:44:58.261102Z"
    },
    "papermill": {
     "duration": 0.513354,
     "end_time": "2020-12-15T16:44:58.261737",
     "exception": false,
     "start_time": "2020-12-15T16:44:57.748383",
     "status": "completed"
    },
    "tags": []
   },
   "outputs": [
    {
     "data": {
      "text/plain": [
       "[0.8076923076923077,\n",
       " 0.7692307692307693,\n",
       " 0.7142857142857143,\n",
       " 0.6551724137931034,\n",
       " 0.6923076923076923,\n",
       " 0.7777777777777778,\n",
       " 0.8076923076923077,\n",
       " 0.6923076923076923,\n",
       " 0.46153846153846156,\n",
       " 0.5384615384615384]"
      ]
     },
     "execution_count": 28,
     "metadata": {},
     "output_type": "execute_result"
    }
   ],
   "source": [
    "# health scores\n",
    "h_scores = get_scores(health, datasets.tweets.to_list())\n",
    "h_scores[:10]"
   ]
  },
  {
   "cell_type": "code",
   "execution_count": 29,
   "metadata": {
    "execution": {
     "iopub.execute_input": "2020-12-15T16:44:58.430240Z",
     "iopub.status.busy": "2020-12-15T16:44:58.419996Z",
     "iopub.status.idle": "2020-12-15T16:44:58.795317Z",
     "shell.execute_reply": "2020-12-15T16:44:58.796191Z"
    },
    "papermill": {
     "duration": 0.469795,
     "end_time": "2020-12-15T16:44:58.796403",
     "exception": false,
     "start_time": "2020-12-15T16:44:58.326608",
     "status": "completed"
    },
    "tags": []
   },
   "outputs": [
    {
     "data": {
      "text/plain": [
       "[0.75,\n",
       " 0.7142857142857143,\n",
       " 0.7241379310344828,\n",
       " 0.6666666666666666,\n",
       " 0.6428571428571429,\n",
       " 0.7857142857142857,\n",
       " 0.75,\n",
       " 0.6428571428571429,\n",
       " 0.42857142857142855,\n",
       " 0.5]"
      ]
     },
     "execution_count": 29,
     "metadata": {},
     "output_type": "execute_result"
    }
   ],
   "source": [
    "# education scores\n",
    "e_scores = get_scores(education, datasets.tweets.to_list())\n",
    "e_scores[:10]"
   ]
  },
  {
   "cell_type": "code",
   "execution_count": 30,
   "metadata": {
    "execution": {
     "iopub.execute_input": "2020-12-15T16:44:58.962074Z",
     "iopub.status.busy": "2020-12-15T16:44:58.956938Z",
     "iopub.status.idle": "2020-12-15T16:44:59.293373Z",
     "shell.execute_reply": "2020-12-15T16:44:59.293876Z"
    },
    "papermill": {
     "duration": 0.420822,
     "end_time": "2020-12-15T16:44:59.294011",
     "exception": false,
     "start_time": "2020-12-15T16:44:58.873189",
     "status": "completed"
    },
    "tags": []
   },
   "outputs": [
    {
     "data": {
      "text/plain": [
       "[0.8076923076923077,\n",
       " 0.7692307692307693,\n",
       " 0.7142857142857143,\n",
       " 0.7142857142857143,\n",
       " 0.6923076923076923,\n",
       " 0.8461538461538461,\n",
       " 0.8076923076923077,\n",
       " 0.6923076923076923,\n",
       " 0.46153846153846156,\n",
       " 0.5384615384615384]"
      ]
     },
     "execution_count": 30,
     "metadata": {},
     "output_type": "execute_result"
    }
   ],
   "source": [
    "# mechanical scores\n",
    "m_scores = get_scores(mechanical, datasets.tweets.to_list())\n",
    "m_scores[:10]"
   ]
  },
  {
   "cell_type": "code",
   "execution_count": 31,
   "metadata": {
    "execution": {
     "iopub.execute_input": "2020-12-15T16:44:59.444048Z",
     "iopub.status.busy": "2020-12-15T16:44:59.443373Z",
     "iopub.status.idle": "2020-12-15T16:44:59.456335Z",
     "shell.execute_reply": "2020-12-15T16:44:59.456832Z"
    },
    "papermill": {
     "duration": 0.097562,
     "end_time": "2020-12-15T16:44:59.456989",
     "exception": false,
     "start_time": "2020-12-15T16:44:59.359427",
     "status": "completed"
    },
    "tags": []
   },
   "outputs": [
    {
     "data": {
      "text/html": [
       "<div>\n",
       "<style scoped>\n",
       "    .dataframe tbody tr th:only-of-type {\n",
       "        vertical-align: middle;\n",
       "    }\n",
       "\n",
       "    .dataframe tbody tr th {\n",
       "        vertical-align: top;\n",
       "    }\n",
       "\n",
       "    .dataframe thead th {\n",
       "        text-align: right;\n",
       "    }\n",
       "</style>\n",
       "<table border=\"1\" class=\"dataframe\">\n",
       "  <thead>\n",
       "    <tr style=\"text-align: right;\">\n",
       "      <th></th>\n",
       "      <th>names</th>\n",
       "      <th>education_score</th>\n",
       "      <th>mechanical_score</th>\n",
       "      <th>health_scores</th>\n",
       "      <th>sport_scores</th>\n",
       "    </tr>\n",
       "  </thead>\n",
       "  <tbody>\n",
       "    <tr>\n",
       "      <th>0</th>\n",
       "      <td>Education1939</td>\n",
       "      <td>0.750000</td>\n",
       "      <td>0.807692</td>\n",
       "      <td>0.807692</td>\n",
       "      <td>0.750000</td>\n",
       "    </tr>\n",
       "    <tr>\n",
       "      <th>1</th>\n",
       "      <td>alexanderrusso</td>\n",
       "      <td>0.714286</td>\n",
       "      <td>0.769231</td>\n",
       "      <td>0.769231</td>\n",
       "      <td>0.714286</td>\n",
       "    </tr>\n",
       "    <tr>\n",
       "      <th>2</th>\n",
       "      <td>TaleamSystems</td>\n",
       "      <td>0.724138</td>\n",
       "      <td>0.714286</td>\n",
       "      <td>0.714286</td>\n",
       "      <td>0.724138</td>\n",
       "    </tr>\n",
       "    <tr>\n",
       "      <th>3</th>\n",
       "      <td>javrsda</td>\n",
       "      <td>0.666667</td>\n",
       "      <td>0.714286</td>\n",
       "      <td>0.655172</td>\n",
       "      <td>0.666667</td>\n",
       "    </tr>\n",
       "    <tr>\n",
       "      <th>4</th>\n",
       "      <td>Calpe19</td>\n",
       "      <td>0.642857</td>\n",
       "      <td>0.692308</td>\n",
       "      <td>0.692308</td>\n",
       "      <td>0.642857</td>\n",
       "    </tr>\n",
       "    <tr>\n",
       "      <th>5</th>\n",
       "      <td>MohdHus97063247</td>\n",
       "      <td>0.785714</td>\n",
       "      <td>0.846154</td>\n",
       "      <td>0.777778</td>\n",
       "      <td>0.785714</td>\n",
       "    </tr>\n",
       "    <tr>\n",
       "      <th>6</th>\n",
       "      <td>SherriKuczeryk</td>\n",
       "      <td>0.750000</td>\n",
       "      <td>0.807692</td>\n",
       "      <td>0.807692</td>\n",
       "      <td>0.750000</td>\n",
       "    </tr>\n",
       "    <tr>\n",
       "      <th>7</th>\n",
       "      <td>csmatteson</td>\n",
       "      <td>0.642857</td>\n",
       "      <td>0.692308</td>\n",
       "      <td>0.692308</td>\n",
       "      <td>0.642857</td>\n",
       "    </tr>\n",
       "    <tr>\n",
       "      <th>8</th>\n",
       "      <td>Jintu41851351</td>\n",
       "      <td>0.428571</td>\n",
       "      <td>0.461538</td>\n",
       "      <td>0.461538</td>\n",
       "      <td>0.428571</td>\n",
       "    </tr>\n",
       "    <tr>\n",
       "      <th>9</th>\n",
       "      <td>shamasi1968</td>\n",
       "      <td>0.500000</td>\n",
       "      <td>0.538462</td>\n",
       "      <td>0.538462</td>\n",
       "      <td>0.500000</td>\n",
       "    </tr>\n",
       "  </tbody>\n",
       "</table>\n",
       "</div>"
      ],
      "text/plain": [
       "             names  education_score  mechanical_score  health_scores  \\\n",
       "0    Education1939         0.750000          0.807692       0.807692   \n",
       "1   alexanderrusso         0.714286          0.769231       0.769231   \n",
       "2    TaleamSystems         0.724138          0.714286       0.714286   \n",
       "3          javrsda         0.666667          0.714286       0.655172   \n",
       "4          Calpe19         0.642857          0.692308       0.692308   \n",
       "5  MohdHus97063247         0.785714          0.846154       0.777778   \n",
       "6   SherriKuczeryk         0.750000          0.807692       0.807692   \n",
       "7       csmatteson         0.642857          0.692308       0.692308   \n",
       "8    Jintu41851351         0.428571          0.461538       0.461538   \n",
       "9      shamasi1968         0.500000          0.538462       0.538462   \n",
       "\n",
       "   sport_scores  \n",
       "0      0.750000  \n",
       "1      0.714286  \n",
       "2      0.724138  \n",
       "3      0.666667  \n",
       "4      0.642857  \n",
       "5      0.785714  \n",
       "6      0.750000  \n",
       "7      0.642857  \n",
       "8      0.428571  \n",
       "9      0.500000  "
      ]
     },
     "execution_count": 31,
     "metadata": {},
     "output_type": "execute_result"
    }
   ],
   "source": [
    "'''new df with names, and the jaccard scores for each group'''\n",
    "\n",
    "data  = {'names':datasets.user.to_list(), 'education_score':e_scores,\n",
    "         'mechanical_score': m_scores, 'health_scores':h_scores,'sport_scores':sp_scores}\n",
    "scores_df = pd.DataFrame(data)\n",
    "scores_df.head(10)"
   ]
  },
  {
   "cell_type": "markdown",
   "metadata": {
    "papermill": {
     "duration": 0.066837,
     "end_time": "2020-12-15T16:44:59.590300",
     "exception": false,
     "start_time": "2020-12-15T16:44:59.523463",
     "status": "completed"
    },
    "tags": []
   },
   "source": [
    "* Actual assigning of classes to the tweets"
   ]
  },
  {
   "cell_type": "code",
   "execution_count": 32,
   "metadata": {
    "execution": {
     "iopub.execute_input": "2020-12-15T16:44:59.725807Z",
     "iopub.status.busy": "2020-12-15T16:44:59.725161Z",
     "iopub.status.idle": "2020-12-15T16:44:59.734479Z",
     "shell.execute_reply": "2020-12-15T16:44:59.735030Z"
    },
    "papermill": {
     "duration": 0.078404,
     "end_time": "2020-12-15T16:44:59.735164",
     "exception": false,
     "start_time": "2020-12-15T16:44:59.656760",
     "status": "completed"
    },
    "tags": []
   },
   "outputs": [],
   "source": [
    "def get_clusters(l1, l2, l3, l4):\n",
    "    educ = []\n",
    "    mech = []\n",
    "    heal = []\n",
    "    spor = []\n",
    "    \n",
    "    \n",
    "    \n",
    "    for i, j, k, l, in zip(l1, l2, l3, l4):\n",
    "        m = max(i, j, k, l, )\n",
    "        if m == i:\n",
    "            educ.append(1)\n",
    "        else:\n",
    "            educ.append(0)\n",
    "        if m == j:\n",
    "            mech.append(1)\n",
    "        else:\n",
    "            mech.append(0)        \n",
    "        if m == k:\n",
    "            heal.append(1)\n",
    "        else:\n",
    "            heal.append(0)  \n",
    "        if m == l:\n",
    "            spor.append(1)\n",
    "        else:\n",
    "            spor.append(0)   \n",
    "        \n",
    "    return educ, mech, heal, spor"
   ]
  },
  {
   "cell_type": "code",
   "execution_count": 33,
   "metadata": {
    "execution": {
     "iopub.execute_input": "2020-12-15T16:44:59.871054Z",
     "iopub.status.busy": "2020-12-15T16:44:59.870393Z",
     "iopub.status.idle": "2020-12-15T16:44:59.889170Z",
     "shell.execute_reply": "2020-12-15T16:44:59.889831Z"
    },
    "papermill": {
     "duration": 0.088251,
     "end_time": "2020-12-15T16:44:59.889986",
     "exception": false,
     "start_time": "2020-12-15T16:44:59.801735",
     "status": "completed"
    },
    "tags": []
   },
   "outputs": [],
   "source": [
    "l1 = scores_df.education_score.to_list()\n",
    "l2 = scores_df.mechanical_score.to_list()\n",
    "l3 = scores_df.health_scores.to_list()\n",
    "l4 = scores_df.sport_scores.to_list()\n",
    "\n",
    "\n",
    "educ, mech, heal, spor   = get_clusters(l1, l2, l3, l4)"
   ]
  },
  {
   "cell_type": "code",
   "execution_count": 34,
   "metadata": {
    "execution": {
     "iopub.execute_input": "2020-12-15T16:45:00.026172Z",
     "iopub.status.busy": "2020-12-15T16:45:00.025518Z",
     "iopub.status.idle": "2020-12-15T16:45:00.063988Z",
     "shell.execute_reply": "2020-12-15T16:45:00.064502Z"
    },
    "papermill": {
     "duration": 0.107759,
     "end_time": "2020-12-15T16:45:00.064647",
     "exception": false,
     "start_time": "2020-12-15T16:44:59.956888",
     "status": "completed"
    },
    "tags": []
   },
   "outputs": [
    {
     "data": {
      "text/html": [
       "<div>\n",
       "<style scoped>\n",
       "    .dataframe tbody tr th:only-of-type {\n",
       "        vertical-align: middle;\n",
       "    }\n",
       "\n",
       "    .dataframe tbody tr th {\n",
       "        vertical-align: top;\n",
       "    }\n",
       "\n",
       "    .dataframe thead th {\n",
       "        text-align: right;\n",
       "    }\n",
       "</style>\n",
       "<table border=\"1\" class=\"dataframe\">\n",
       "  <thead>\n",
       "    <tr style=\"text-align: right;\">\n",
       "      <th></th>\n",
       "      <th>name</th>\n",
       "      <th>sport</th>\n",
       "      <th>health</th>\n",
       "      <th>education</th>\n",
       "      <th>mechanical</th>\n",
       "    </tr>\n",
       "  </thead>\n",
       "  <tbody>\n",
       "    <tr>\n",
       "      <th>0</th>\n",
       "      <td>Education1939</td>\n",
       "      <td>0</td>\n",
       "      <td>1</td>\n",
       "      <td>0</td>\n",
       "      <td>1</td>\n",
       "    </tr>\n",
       "    <tr>\n",
       "      <th>1</th>\n",
       "      <td>alexanderrusso</td>\n",
       "      <td>0</td>\n",
       "      <td>1</td>\n",
       "      <td>0</td>\n",
       "      <td>1</td>\n",
       "    </tr>\n",
       "    <tr>\n",
       "      <th>2</th>\n",
       "      <td>TaleamSystems</td>\n",
       "      <td>1</td>\n",
       "      <td>0</td>\n",
       "      <td>1</td>\n",
       "      <td>0</td>\n",
       "    </tr>\n",
       "    <tr>\n",
       "      <th>3</th>\n",
       "      <td>javrsda</td>\n",
       "      <td>0</td>\n",
       "      <td>0</td>\n",
       "      <td>0</td>\n",
       "      <td>1</td>\n",
       "    </tr>\n",
       "    <tr>\n",
       "      <th>4</th>\n",
       "      <td>Calpe19</td>\n",
       "      <td>0</td>\n",
       "      <td>1</td>\n",
       "      <td>0</td>\n",
       "      <td>1</td>\n",
       "    </tr>\n",
       "    <tr>\n",
       "      <th>5</th>\n",
       "      <td>MohdHus97063247</td>\n",
       "      <td>0</td>\n",
       "      <td>0</td>\n",
       "      <td>0</td>\n",
       "      <td>1</td>\n",
       "    </tr>\n",
       "    <tr>\n",
       "      <th>6</th>\n",
       "      <td>SherriKuczeryk</td>\n",
       "      <td>0</td>\n",
       "      <td>1</td>\n",
       "      <td>0</td>\n",
       "      <td>1</td>\n",
       "    </tr>\n",
       "    <tr>\n",
       "      <th>7</th>\n",
       "      <td>csmatteson</td>\n",
       "      <td>0</td>\n",
       "      <td>1</td>\n",
       "      <td>0</td>\n",
       "      <td>1</td>\n",
       "    </tr>\n",
       "    <tr>\n",
       "      <th>8</th>\n",
       "      <td>Jintu41851351</td>\n",
       "      <td>0</td>\n",
       "      <td>1</td>\n",
       "      <td>0</td>\n",
       "      <td>1</td>\n",
       "    </tr>\n",
       "    <tr>\n",
       "      <th>9</th>\n",
       "      <td>shamasi1968</td>\n",
       "      <td>0</td>\n",
       "      <td>1</td>\n",
       "      <td>0</td>\n",
       "      <td>1</td>\n",
       "    </tr>\n",
       "  </tbody>\n",
       "</table>\n",
       "</div>"
      ],
      "text/plain": [
       "              name  sport  health  education  mechanical\n",
       "0    Education1939      0       1          0           1\n",
       "1   alexanderrusso      0       1          0           1\n",
       "2    TaleamSystems      1       0          1           0\n",
       "3          javrsda      0       0          0           1\n",
       "4          Calpe19      0       1          0           1\n",
       "5  MohdHus97063247      0       0          0           1\n",
       "6   SherriKuczeryk      0       1          0           1\n",
       "7       csmatteson      0       1          0           1\n",
       "8    Jintu41851351      0       1          0           1\n",
       "9      shamasi1968      0       1          0           1"
      ]
     },
     "execution_count": 34,
     "metadata": {},
     "output_type": "execute_result"
    }
   ],
   "source": [
    "data = {'name': scores_df.names.to_list(), 'sport':spor,  'health': heal, 'education': educ, 'mechanical': mech}\n",
    "cluster_df = pd.DataFrame(data)\n",
    "cluster_df.head(10)"
   ]
  },
  {
   "cell_type": "code",
   "execution_count": 35,
   "metadata": {
    "execution": {
     "iopub.execute_input": "2020-12-15T16:45:00.202054Z",
     "iopub.status.busy": "2020-12-15T16:45:00.201376Z",
     "iopub.status.idle": "2020-12-15T16:45:00.251533Z",
     "shell.execute_reply": "2020-12-15T16:45:00.250899Z"
    },
    "papermill": {
     "duration": 0.12022,
     "end_time": "2020-12-15T16:45:00.251669",
     "exception": false,
     "start_time": "2020-12-15T16:45:00.131449",
     "status": "completed"
    },
    "tags": []
   },
   "outputs": [],
   "source": [
    "'''Due to the close similarity between the education, mechanical and health tweets, some tweets have multiple categories, \n",
    "so to take care of that the rows with a sum > 1 will have to share the categories. After this, clustering will take care \n",
    "of the fractions'''\n",
    "\n",
    "\n",
    "a =  cluster_df[['sport', 'health', 'education','mechanical']].sum(axis = 1) > 1\n",
    "c = cluster_df[['sport', 'health', 'education','mechanical']].sum(axis = 1)\n",
    "# b = cluster_df.copy()\n",
    "cluster_df.loc[(a), ['sport', 'health', 'education','mechanical']] = 1/c"
   ]
  },
  {
   "cell_type": "code",
   "execution_count": 36,
   "metadata": {
    "execution": {
     "iopub.execute_input": "2020-12-15T16:45:00.392559Z",
     "iopub.status.busy": "2020-12-15T16:45:00.391881Z",
     "iopub.status.idle": "2020-12-15T16:45:00.396223Z",
     "shell.execute_reply": "2020-12-15T16:45:00.395712Z"
    },
    "papermill": {
     "duration": 0.076477,
     "end_time": "2020-12-15T16:45:00.396338",
     "exception": false,
     "start_time": "2020-12-15T16:45:00.319861",
     "status": "completed"
    },
    "tags": []
   },
   "outputs": [
    {
     "data": {
      "text/plain": [
       "(12000, 5)"
      ]
     },
     "execution_count": 36,
     "metadata": {},
     "output_type": "execute_result"
    }
   ],
   "source": [
    "cluster_df.shape"
   ]
  },
  {
   "cell_type": "markdown",
   "metadata": {
    "papermill": {
     "duration": 0.067329,
     "end_time": "2020-12-15T16:45:00.531500",
     "exception": false,
     "start_time": "2020-12-15T16:45:00.464171",
     "status": "completed"
    },
    "tags": []
   },
   "source": [
    "#  Clustered Datasets: Question 4"
   ]
  },
  {
   "cell_type": "code",
   "execution_count": 37,
   "metadata": {
    "execution": {
     "iopub.execute_input": "2020-12-15T16:45:00.678203Z",
     "iopub.status.busy": "2020-12-15T16:45:00.677197Z",
     "iopub.status.idle": "2020-12-15T16:45:00.719981Z",
     "shell.execute_reply": "2020-12-15T16:45:00.719294Z"
    },
    "papermill": {
     "duration": 0.12023,
     "end_time": "2020-12-15T16:45:00.720105",
     "exception": false,
     "start_time": "2020-12-15T16:45:00.599875",
     "status": "completed"
    },
    "tags": []
   },
   "outputs": [
    {
     "name": "stdout",
     "output_type": "stream",
     "text": [
      "(10846, 5)\n"
     ]
    },
    {
     "data": {
      "text/html": [
       "<div>\n",
       "<style scoped>\n",
       "    .dataframe tbody tr th:only-of-type {\n",
       "        vertical-align: middle;\n",
       "    }\n",
       "\n",
       "    .dataframe tbody tr th {\n",
       "        vertical-align: top;\n",
       "    }\n",
       "\n",
       "    .dataframe thead th {\n",
       "        text-align: right;\n",
       "    }\n",
       "</style>\n",
       "<table border=\"1\" class=\"dataframe\">\n",
       "  <thead>\n",
       "    <tr style=\"text-align: right;\">\n",
       "      <th></th>\n",
       "      <th>sport</th>\n",
       "      <th>health</th>\n",
       "      <th>education</th>\n",
       "      <th>mechanical</th>\n",
       "      <th>total</th>\n",
       "    </tr>\n",
       "    <tr>\n",
       "      <th>name</th>\n",
       "      <th></th>\n",
       "      <th></th>\n",
       "      <th></th>\n",
       "      <th></th>\n",
       "      <th></th>\n",
       "    </tr>\n",
       "  </thead>\n",
       "  <tbody>\n",
       "    <tr>\n",
       "      <th>zuzufishy</th>\n",
       "      <td>0</td>\n",
       "      <td>0</td>\n",
       "      <td>0</td>\n",
       "      <td>0</td>\n",
       "      <td>0</td>\n",
       "    </tr>\n",
       "    <tr>\n",
       "      <th>zxcvbijuu</th>\n",
       "      <td>1</td>\n",
       "      <td>1</td>\n",
       "      <td>1</td>\n",
       "      <td>1</td>\n",
       "      <td>4</td>\n",
       "    </tr>\n",
       "    <tr>\n",
       "      <th>zxhrx</th>\n",
       "      <td>0</td>\n",
       "      <td>0</td>\n",
       "      <td>0</td>\n",
       "      <td>0</td>\n",
       "      <td>0</td>\n",
       "    </tr>\n",
       "    <tr>\n",
       "      <th>zzexolove</th>\n",
       "      <td>0</td>\n",
       "      <td>0</td>\n",
       "      <td>0</td>\n",
       "      <td>0</td>\n",
       "      <td>0</td>\n",
       "    </tr>\n",
       "    <tr>\n",
       "      <th>Total</th>\n",
       "      <td>677</td>\n",
       "      <td>677</td>\n",
       "      <td>677</td>\n",
       "      <td>1369</td>\n",
       "      <td>3400</td>\n",
       "    </tr>\n",
       "  </tbody>\n",
       "</table>\n",
       "</div>"
      ],
      "text/plain": [
       "           sport  health  education  mechanical  total\n",
       "name                                                  \n",
       "zuzufishy      0       0          0           0      0\n",
       "zxcvbijuu      1       1          1           1      4\n",
       "zxhrx          0       0          0           0      0\n",
       "zzexolove      0       0          0           0      0\n",
       "Total        677     677        677        1369   3400"
      ]
     },
     "execution_count": 37,
     "metadata": {},
     "output_type": "execute_result"
    }
   ],
   "source": [
    "pivot_clusters = cluster_df.groupby(['name']).sum()\n",
    "pivot_clusters['education'] = pivot_clusters['education'].astype(int)\n",
    "pivot_clusters['sport'] = pivot_clusters['sport'].astype(int)\n",
    "pivot_clusters['health'] = pivot_clusters['health'].astype(int)\n",
    "pivot_clusters['mechanical'] = pivot_clusters['mechanical'].astype(int)\n",
    "\n",
    "\n",
    "\n",
    "pivot_clusters['total'] = pivot_clusters['health']  + pivot_clusters['mechanical'] +  pivot_clusters['education'] +  pivot_clusters['sport']\n",
    "pivot_clusters.loc[\"Total\"] = pivot_clusters.sum()  #add a totals row\n",
    "print(pivot_clusters.shape)\n",
    "pivot_clusters.tail()"
   ]
  },
  {
   "cell_type": "markdown",
   "metadata": {
    "papermill": {
     "duration": 0.068456,
     "end_time": "2020-12-15T16:45:00.858385",
     "exception": false,
     "start_time": "2020-12-15T16:45:00.789929",
     "status": "completed"
    },
    "tags": []
   },
   "source": [
    "* A pie chart to display the total number of tweets in each category"
   ]
  },
  {
   "cell_type": "code",
   "execution_count": 38,
   "metadata": {
    "execution": {
     "iopub.execute_input": "2020-12-15T16:45:01.002551Z",
     "iopub.status.busy": "2020-12-15T16:45:01.001902Z",
     "iopub.status.idle": "2020-12-15T16:45:01.146674Z",
     "shell.execute_reply": "2020-12-15T16:45:01.146153Z"
    },
    "papermill": {
     "duration": 0.218994,
     "end_time": "2020-12-15T16:45:01.146788",
     "exception": false,
     "start_time": "2020-12-15T16:45:00.927794",
     "status": "completed"
    },
    "tags": []
   },
   "outputs": [
    {
     "data": {
      "image/png": "[encoded data removed]",
      "text/plain": [
       "<Figure size 720x1080 with 1 Axes>"
      ]
     },
     "metadata": {},
     "output_type": "display_data"
    }
   ],
   "source": [
    "fig = plt.figure(figsize =(10, 15)) \n",
    "a = pivot_clusters.drop(['total'], axis = 1)\n",
    "plt.pie(a.loc['Total'], labels = a.columns)\n",
    "plt.title('A pie chart showing the volumes of tweets under different categories.')\n",
    "plt.show()"
   ]
  },
  {
   "cell_type": "markdown",
   "metadata": {
    "papermill": {
     "duration": 0.069854,
     "end_time": "2020-12-15T16:45:01.287417",
     "exception": false,
     "start_time": "2020-12-15T16:45:01.217563",
     "status": "completed"
    },
    "tags": []
   },
   "source": [
    "The mechanical tweets follow, this could be related to the set of words defined as words related to mechanical. Most of these terms are general, thus if a tweet that maybe was more education related could have more mechanical words than education words and thus classified as mechanical, so this is mainnly a bias in the classification method"
   ]
  },
  {
   "cell_type": "markdown",
   "metadata": {
    "papermill": {
     "duration": 0.06998,
     "end_time": "2020-12-15T16:45:01.427729",
     "exception": false,
     "start_time": "2020-12-15T16:45:01.357749",
     "status": "completed"
    },
    "tags": []
   },
   "source": [
    "* Users with most tweets"
   ]
  },
  {
   "cell_type": "code",
   "execution_count": 39,
   "metadata": {
    "execution": {
     "iopub.execute_input": "2020-12-15T16:45:01.572144Z",
     "iopub.status.busy": "2020-12-15T16:45:01.571458Z",
     "iopub.status.idle": "2020-12-15T16:45:01.871426Z",
     "shell.execute_reply": "2020-12-15T16:45:01.870792Z"
    },
    "papermill": {
     "duration": 0.373586,
     "end_time": "2020-12-15T16:45:01.871544",
     "exception": false,
     "start_time": "2020-12-15T16:45:01.497958",
     "status": "completed"
    },
    "tags": []
   },
   "outputs": [
    {
     "name": "stderr",
     "output_type": "stream",
     "text": [
      "/opt/conda/lib/python3.7/site-packages/pandas/core/frame.py:4174: SettingWithCopyWarning: \n",
      "A value is trying to be set on a copy of a slice from a DataFrame\n",
      "\n",
      "See the caveats in the documentation: https://pandas.pydata.org/pandas-docs/stable/user_guide/indexing.html#returning-a-view-versus-a-copy\n",
      "  errors=errors,\n"
     ]
    },
    {
     "data": {
      "text/plain": [
       "Text(0, 0.5, 'total tweets')"
      ]
     },
     "execution_count": 39,
     "metadata": {},
     "output_type": "execute_result"
    },
    {
     "data": {
      "image/png": "[encoded data removed]",
      "text/plain": [
       "<Figure size 864x720 with 1 Axes>"
      ]
     },
     "metadata": {
      "needs_background": "light"
     },
     "output_type": "display_data"
    }
   ],
   "source": [
    "d = pivot_clusters.sort_values(by = 'total', ascending  = False)\n",
    "e = d.head(15)\n",
    "e.drop(e.head(1).index, inplace=True)\n",
    "\n",
    "plt.figure(figsize=(12,10))\n",
    "sns.barplot(x = e.index, y = e.total)\n",
    "plt.title('A bar plot showing top tweeps based on volume of tweets')\n",
    "plt.xticks(rotation=45)\n",
    "plt.xlabel('user')\n",
    "plt.ylabel('total tweets')"
   ]
  },
  {
   "cell_type": "markdown",
   "metadata": {
    "papermill": {
     "duration": 0.072198,
     "end_time": "2020-12-15T16:45:02.018184",
     "exception": false,
     "start_time": "2020-12-15T16:45:01.945986",
     "status": "completed"
    },
    "tags": []
   },
   "source": [
    "* Users with most Sport tweets"
   ]
  },
  {
   "cell_type": "code",
   "execution_count": 40,
   "metadata": {
    "execution": {
     "iopub.execute_input": "2020-12-15T16:45:02.171231Z",
     "iopub.status.busy": "2020-12-15T16:45:02.170519Z",
     "iopub.status.idle": "2020-12-15T16:45:02.427476Z",
     "shell.execute_reply": "2020-12-15T16:45:02.426767Z"
    },
    "papermill": {
     "duration": 0.336931,
     "end_time": "2020-12-15T16:45:02.427590",
     "exception": false,
     "start_time": "2020-12-15T16:45:02.090659",
     "status": "completed"
    },
    "tags": []
   },
   "outputs": [
    {
     "data": {
      "text/plain": [
       "Text(0, 0.5, 'sport tweets')"
      ]
     },
     "execution_count": 40,
     "metadata": {},
     "output_type": "execute_result"
    },
    {
     "data": {
      "image/png": "[encoded data removed]",
      "text/plain": [
       "<Figure size 864x720 with 1 Axes>"
      ]
     },
     "metadata": {
      "needs_background": "light"
     },
     "output_type": "display_data"
    }
   ],
   "source": [
    "d = pivot_clusters.sort_values(by = 'sport', ascending  = False)\n",
    "e = d.head(15)\n",
    "e.drop(e.head(3).index, inplace=True)\n",
    "\n",
    "plt.figure(figsize=(12,10))\n",
    "sns.barplot(x = e.index, y = e.sport)\n",
    "plt.title('A bar plot showing top tweeps based on volume of sport tweets')\n",
    "plt.xticks(rotation=50)\n",
    "plt.xlabel('user')\n",
    "plt.ylabel('sport tweets')"
   ]
  },
  {
   "cell_type": "markdown",
   "metadata": {
    "papermill": {
     "duration": 0.074075,
     "end_time": "2020-12-15T16:45:02.575938",
     "exception": false,
     "start_time": "2020-12-15T16:45:02.501863",
     "status": "completed"
    },
    "tags": []
   },
   "source": [
    "* Users with most mechanical tweets"
   ]
  },
  {
   "cell_type": "code",
   "execution_count": 41,
   "metadata": {
    "execution": {
     "iopub.execute_input": "2020-12-15T16:45:02.734297Z",
     "iopub.status.busy": "2020-12-15T16:45:02.733607Z",
     "iopub.status.idle": "2020-12-15T16:45:03.006615Z",
     "shell.execute_reply": "2020-12-15T16:45:03.007227Z"
    },
    "papermill": {
     "duration": 0.35579,
     "end_time": "2020-12-15T16:45:03.007383",
     "exception": false,
     "start_time": "2020-12-15T16:45:02.651593",
     "status": "completed"
    },
    "tags": []
   },
   "outputs": [
    {
     "data": {
      "text/plain": [
       "Text(0, 0.5, 'mechanical tweets')"
      ]
     },
     "execution_count": 41,
     "metadata": {},
     "output_type": "execute_result"
    },
    {
     "data": {
      "image/png": "[encoded data removed]",
      "text/plain": [
       "<Figure size 864x720 with 1 Axes>"
      ]
     },
     "metadata": {
      "needs_background": "light"
     },
     "output_type": "display_data"
    }
   ],
   "source": [
    "d = pivot_clusters.sort_values(by = 'mechanical', ascending  = False)\n",
    "e = d.head(15)\n",
    "e.drop(e.head(1).index, inplace=True)\n",
    "\n",
    "plt.figure(figsize=(12,10))\n",
    "sns.barplot(x = e.index, y = e.mechanical)\n",
    "plt.title('A bar plot showing top tweeps based on volume of mechanical tweets')\n",
    "plt.xticks(rotation=60)\n",
    "plt.xlabel('user')\n",
    "plt.ylabel('mechanical tweets')"
   ]
  },
  {
   "cell_type": "markdown",
   "metadata": {
    "papermill": {
     "duration": 0.08463,
     "end_time": "2020-12-15T16:45:03.177103",
     "exception": false,
     "start_time": "2020-12-15T16:45:03.092473",
     "status": "completed"
    },
    "tags": []
   },
   "source": [
    "*  Users with most education tweets"
   ]
  },
  {
   "cell_type": "code",
   "execution_count": 42,
   "metadata": {
    "execution": {
     "iopub.execute_input": "2020-12-15T16:45:03.351862Z",
     "iopub.status.busy": "2020-12-15T16:45:03.350770Z",
     "iopub.status.idle": "2020-12-15T16:45:03.623531Z",
     "shell.execute_reply": "2020-12-15T16:45:03.624084Z"
    },
    "papermill": {
     "duration": 0.361873,
     "end_time": "2020-12-15T16:45:03.624257",
     "exception": false,
     "start_time": "2020-12-15T16:45:03.262384",
     "status": "completed"
    },
    "tags": []
   },
   "outputs": [
    {
     "data": {
      "text/plain": [
       "Text(0, 0.5, 'education tweets')"
      ]
     },
     "execution_count": 42,
     "metadata": {},
     "output_type": "execute_result"
    },
    {
     "data": {
      "image/png": "[encoded data removed]",
      "text/plain": [
       "<Figure size 864x720 with 1 Axes>"
      ]
     },
     "metadata": {
      "needs_background": "light"
     },
     "output_type": "display_data"
    }
   ],
   "source": [
    "d = pivot_clusters.sort_values(by = 'education', ascending  = False)\n",
    "e = d.head(15)\n",
    "e.drop(e.head(2).index, inplace=True)\n",
    "\n",
    "plt.figure(figsize=(12,10))\n",
    "sns.barplot(x = e.index, y = e.education)\n",
    "plt.title('A bar plot showing top tweeps based on volume of education tweets')\n",
    "plt.xticks(rotation=45)\n",
    "plt.xlabel('user')\n",
    "plt.ylabel('education tweets')"
   ]
  },
  {
   "cell_type": "markdown",
   "metadata": {
    "papermill": {
     "duration": 0.078194,
     "end_time": "2020-12-15T16:45:03.779979",
     "exception": false,
     "start_time": "2020-12-15T16:45:03.701785",
     "status": "completed"
    },
    "tags": []
   },
   "source": [
    "*  Users with most health tweets"
   ]
  },
  {
   "cell_type": "code",
   "execution_count": 43,
   "metadata": {
    "execution": {
     "iopub.execute_input": "2020-12-15T16:45:03.944422Z",
     "iopub.status.busy": "2020-12-15T16:45:03.943392Z",
     "iopub.status.idle": "2020-12-15T16:45:04.327839Z",
     "shell.execute_reply": "2020-12-15T16:45:04.328707Z"
    },
    "papermill": {
     "duration": 0.468245,
     "end_time": "2020-12-15T16:45:04.328944",
     "exception": false,
     "start_time": "2020-12-15T16:45:03.860699",
     "status": "completed"
    },
    "tags": []
   },
   "outputs": [
    {
     "data": {
      "text/plain": [
       "Text(0, 0.5, 'health tweets')"
      ]
     },
     "execution_count": 43,
     "metadata": {},
     "output_type": "execute_result"
    },
    {
     "data": {
      "image/png": "[encoded data removed]",
      "text/plain": [
       "<Figure size 864x864 with 1 Axes>"
      ]
     },
     "metadata": {
      "needs_background": "light"
     },
     "output_type": "display_data"
    }
   ],
   "source": [
    "d = pivot_clusters.sort_values(by = 'health', ascending  = False)\n",
    "e = d.head(15)\n",
    "e.drop(e.head(1).index, inplace=True)\n",
    "\n",
    "\n",
    "plt.figure(figsize=(12,12))\n",
    "sns.barplot(x = e.index, y = e.health)\n",
    "plt.title('A bar plot showing top tweeps based on volume of health tweets')\n",
    "plt.xticks(rotation=45)\n",
    "plt.xlabel('user')\n",
    "plt.ylabel('health tweets')"
   ]
  },
  {
   "cell_type": "markdown",
   "metadata": {
    "papermill": {
     "duration": 0.090959,
     "end_time": "2020-12-15T16:45:04.514385",
     "exception": false,
     "start_time": "2020-12-15T16:45:04.423426",
     "status": "completed"
    },
    "tags": []
   },
   "source": [
    "Distribution test and skewness"
   ]
  },
  {
   "cell_type": "code",
   "execution_count": 44,
   "metadata": {
    "execution": {
     "iopub.execute_input": "2020-12-15T16:45:04.695457Z",
     "iopub.status.busy": "2020-12-15T16:45:04.694652Z",
     "iopub.status.idle": "2020-12-15T16:45:04.700787Z",
     "shell.execute_reply": "2020-12-15T16:45:04.700229Z"
    },
    "papermill": {
     "duration": 0.103224,
     "end_time": "2020-12-15T16:45:04.700929",
     "exception": false,
     "start_time": "2020-12-15T16:45:04.597705",
     "status": "completed"
    },
    "tags": []
   },
   "outputs": [],
   "source": [
    "from statistics import mean\n",
    "import re\n",
    "from scipy import stats\n",
    "from scipy.stats import skew, norm\n",
    "from scipy.special import boxcox1p\n",
    "from scipy.stats import boxcox_normmax\n",
    "from sklearn.preprocessing import StandardScaler"
   ]
  },
  {
   "cell_type": "code",
   "execution_count": 45,
   "metadata": {
    "execution": {
     "iopub.execute_input": "2020-12-15T16:45:04.881013Z",
     "iopub.status.busy": "2020-12-15T16:45:04.879921Z",
     "iopub.status.idle": "2020-12-15T16:45:04.890915Z",
     "shell.execute_reply": "2020-12-15T16:45:04.890337Z"
    },
    "papermill": {
     "duration": 0.098824,
     "end_time": "2020-12-15T16:45:04.891031",
     "exception": false,
     "start_time": "2020-12-15T16:45:04.792207",
     "status": "completed"
    },
    "tags": []
   },
   "outputs": [
    {
     "name": "stdout",
     "output_type": "stream",
     "text": [
      "(10846, 5)\n",
      "(10845, 5)\n"
     ]
    }
   ],
   "source": [
    "# drop the totals row.\n",
    "print(pivot_clusters.shape)\n",
    "pivot_clusters.drop(pivot_clusters.tail(1).index,inplace=True)\n",
    "print(pivot_clusters.shape)"
   ]
  },
  {
   "cell_type": "markdown",
   "metadata": {
    "papermill": {
     "duration": 0.085313,
     "end_time": "2020-12-15T16:45:05.059207",
     "exception": false,
     "start_time": "2020-12-15T16:45:04.973894",
     "status": "completed"
    },
    "tags": []
   },
   "source": [
    "# KMeans Clustering."
   ]
  },
  {
   "cell_type": "markdown",
   "metadata": {
    "papermill": {
     "duration": 0.087807,
     "end_time": "2020-12-15T16:45:05.254070",
     "exception": false,
     "start_time": "2020-12-15T16:45:05.166263",
     "status": "completed"
    },
    "tags": []
   },
   "source": [
    "2D Clusters\n"
   ]
  },
  {
   "cell_type": "code",
   "execution_count": 46,
   "metadata": {
    "execution": {
     "iopub.execute_input": "2020-12-15T16:45:05.432837Z",
     "iopub.status.busy": "2020-12-15T16:45:05.431834Z",
     "iopub.status.idle": "2020-12-15T16:45:05.606196Z",
     "shell.execute_reply": "2020-12-15T16:45:05.605530Z"
    },
    "papermill": {
     "duration": 0.267653,
     "end_time": "2020-12-15T16:45:05.606308",
     "exception": false,
     "start_time": "2020-12-15T16:45:05.338655",
     "status": "completed"
    },
    "tags": []
   },
   "outputs": [],
   "source": [
    "from sklearn.cluster import KMeans"
   ]
  },
  {
   "cell_type": "markdown",
   "metadata": {
    "papermill": {
     "duration": 0.079789,
     "end_time": "2020-12-15T16:45:05.765912",
     "exception": false,
     "start_time": "2020-12-15T16:45:05.686123",
     "status": "completed"
    },
    "tags": []
   },
   "source": [
    "* Mechanical-Sport"
   ]
  },
  {
   "cell_type": "code",
   "execution_count": 47,
   "metadata": {
    "execution": {
     "iopub.execute_input": "2020-12-15T16:45:05.942732Z",
     "iopub.status.busy": "2020-12-15T16:45:05.942072Z",
     "iopub.status.idle": "2020-12-15T16:45:07.383845Z",
     "shell.execute_reply": "2020-12-15T16:45:07.384476Z"
    },
    "papermill": {
     "duration": 1.536583,
     "end_time": "2020-12-15T16:45:07.384627",
     "exception": false,
     "start_time": "2020-12-15T16:45:05.848044",
     "status": "completed"
    },
    "tags": []
   },
   "outputs": [
    {
     "data": {
      "image/png": "[encoded data removed]",
      "text/plain": [
       "<Figure size 432x288 with 1 Axes>"
      ]
     },
     "metadata": {
      "needs_background": "light"
     },
     "output_type": "display_data"
    }
   ],
   "source": [
    "# X = pivot_clusters.iloc[:, [0,1]].values\n",
    "X = pivot_clusters[['mechanical', 'sport']].values\n",
    "\n",
    "# Elbow Method\n",
    "from sklearn.cluster import KMeans\n",
    "wcss = []\n",
    "for i in range(1, 11):\n",
    "    kmeans = KMeans(n_clusters=i, init='k-means++', n_init=10, max_iter=300, random_state=0)\n",
    "    kmeans.fit(X)\n",
    "    wcss.append(kmeans.inertia_)\n",
    "plt.plot(range(1,11), wcss)\n",
    "plt.title('Elbow Method')\n",
    "plt.xlabel('Number of Clusters')\n",
    "plt.ylabel('wcss')\n",
    "plt.show()"
   ]
  },
  {
   "cell_type": "code",
   "execution_count": 48,
   "metadata": {
    "execution": {
     "iopub.execute_input": "2020-12-15T16:45:07.553943Z",
     "iopub.status.busy": "2020-12-15T16:45:07.552900Z",
     "iopub.status.idle": "2020-12-15T16:45:08.079259Z",
     "shell.execute_reply": "2020-12-15T16:45:08.078440Z"
    },
    "papermill": {
     "duration": 0.612682,
     "end_time": "2020-12-15T16:45:08.079381",
     "exception": false,
     "start_time": "2020-12-15T16:45:07.466699",
     "status": "completed"
    },
    "tags": []
   },
   "outputs": [
    {
     "data": {
      "image/png": "[encoded data removed]",
      "text/plain": [
       "<Figure size 432x288 with 1 Axes>"
      ]
     },
     "metadata": {
      "needs_background": "light"
     },
     "output_type": "display_data"
    }
   ],
   "source": [
    "# fitting kmeans to dataset\n",
    "kmeans = KMeans(n_clusters=3, init='k-means++', n_init=10, max_iter=300, random_state=0)\n",
    "Y_kmeans = kmeans.fit_predict(X)\n",
    "\n",
    "# Visualising the clusters\n",
    "plt.scatter(X[Y_kmeans==0, 0], X[Y_kmeans==0, 1], s=100, c='violet', label= 'Cluster 1')\n",
    "plt.scatter(X[Y_kmeans==1, 0], X[Y_kmeans==1, 1], s=100, c='cyan', label= 'Cluster 2')\n",
    "plt.scatter(X[Y_kmeans==2, 0], X[Y_kmeans==2, 1], s=100, c='green', label= 'Cluster 3')\n",
    "#plt.scatter(X[Y_kmeans==3, 0], X[Y_kmeans==3, 1], s=100, c='blue', label= 'Cluster 4')\n",
    "#plt.scatter(X[Y_kmeans==4, 0], X[Y_kmeans==4, 1], s=100, c='magenta', label= 'Cluster 5')\n",
    "plt.scatter(kmeans.cluster_centers_[:, 0], kmeans.cluster_centers_[:, 1], s=100, c='black', label='Centroids' )\n",
    "plt.title('Clusters of tweets in mechanical and sport groups')\n",
    "plt.xlabel('mechanical tweets')\n",
    "plt.ylabel('sport tweets')\n",
    "plt.legend()\n",
    "plt.show()"
   ]
  },
  {
   "cell_type": "markdown",
   "metadata": {
    "papermill": {
     "duration": 0.084187,
     "end_time": "2020-12-15T16:45:08.246045",
     "exception": false,
     "start_time": "2020-12-15T16:45:08.161858",
     "status": "completed"
    },
    "tags": []
   },
   "source": [
    "* Education-Mechanical"
   ]
  },
  {
   "cell_type": "code",
   "execution_count": 49,
   "metadata": {
    "execution": {
     "iopub.execute_input": "2020-12-15T16:45:08.422266Z",
     "iopub.status.busy": "2020-12-15T16:45:08.421527Z",
     "iopub.status.idle": "2020-12-15T16:45:09.679889Z",
     "shell.execute_reply": "2020-12-15T16:45:09.679123Z"
    },
    "papermill": {
     "duration": 1.351019,
     "end_time": "2020-12-15T16:45:09.680027",
     "exception": false,
     "start_time": "2020-12-15T16:45:08.329008",
     "status": "completed"
    },
    "tags": []
   },
   "outputs": [
    {
     "data": {
      "image/png": "[encoded data removed]",
      "text/plain": [
       "<Figure size 432x288 with 1 Axes>"
      ]
     },
     "metadata": {
      "needs_background": "light"
     },
     "output_type": "display_data"
    }
   ],
   "source": [
    "# X = pivot_clusters.iloc[:, [0,1]].values\n",
    "X = pivot_clusters[['education', 'mechanical']].values\n",
    "\n",
    "# Elbow Method\n",
    "from sklearn.cluster import KMeans\n",
    "wcss = []\n",
    "for i in range(1, 11):\n",
    "    kmeans = KMeans(n_clusters=i, init='k-means++', n_init=10, max_iter=300, random_state=0)\n",
    "    kmeans.fit(X)\n",
    "    wcss.append(kmeans.inertia_)\n",
    "plt.plot(range(1,11), wcss)\n",
    "plt.title('Elbow Method')\n",
    "plt.xlabel('Number of Clusters')\n",
    "plt.ylabel('wcss')\n",
    "plt.show()"
   ]
  },
  {
   "cell_type": "code",
   "execution_count": 50,
   "metadata": {
    "execution": {
     "iopub.execute_input": "2020-12-15T16:45:09.877425Z",
     "iopub.status.busy": "2020-12-15T16:45:09.876599Z",
     "iopub.status.idle": "2020-12-15T16:45:10.441207Z",
     "shell.execute_reply": "2020-12-15T16:45:10.440344Z"
    },
    "papermill": {
     "duration": 0.675446,
     "end_time": "2020-12-15T16:45:10.441321",
     "exception": false,
     "start_time": "2020-12-15T16:45:09.765875",
     "status": "completed"
    },
    "tags": []
   },
   "outputs": [
    {
     "data": {
      "image/png": "[encoded data removed]",
      "text/plain": [
       "<Figure size 432x288 with 1 Axes>"
      ]
     },
     "metadata": {
      "needs_background": "light"
     },
     "output_type": "display_data"
    }
   ],
   "source": [
    "# fitting kmeans to dataset\n",
    "kmeans = KMeans(n_clusters=3, init='k-means++', n_init=10, max_iter=300, random_state=0)\n",
    "Y_kmeans = kmeans.fit_predict(X)\n",
    "\n",
    "# Visualising the clusters\n",
    "plt.scatter(X[Y_kmeans==0, 0], X[Y_kmeans==0, 1], s=100, c='violet', label= 'Cluster 1')\n",
    "plt.scatter(X[Y_kmeans==1, 0], X[Y_kmeans==1, 1], s=100, c='cyan', label= 'Cluster 2')\n",
    "plt.scatter(X[Y_kmeans==2, 0], X[Y_kmeans==2, 1], s=100, c='green', label= 'Cluster 3')\n",
    "# plt.scatter(X[Y_kmeans==3, 0], X[Y_kmeans==3, 1], s=100, c='blue', label= 'Cluster 4')\n",
    "# plt.scatter(X[Y_kmeans==4, 0], X[Y_kmeans==4, 1], s=100, c='magenta', label= 'Cluster 5')\n",
    "plt.scatter(kmeans.cluster_centers_[:, 0], kmeans.cluster_centers_[:, 1], s=100, c='black', label='Centroids' )\n",
    "plt.title('Clusters of tweets in education and mechanical groups')\n",
    "plt.xlabel('education tweets')\n",
    "plt.ylabel('mechanical tweets')\n",
    "plt.legend()\n",
    "plt.show()"
   ]
  },
  {
   "cell_type": "markdown",
   "metadata": {
    "papermill": {
     "duration": 0.084895,
     "end_time": "2020-12-15T16:45:10.610258",
     "exception": false,
     "start_time": "2020-12-15T16:45:10.525363",
     "status": "completed"
    },
    "tags": []
   },
   "source": [
    "* Sport-Health"
   ]
  },
  {
   "cell_type": "code",
   "execution_count": 51,
   "metadata": {
    "execution": {
     "iopub.execute_input": "2020-12-15T16:45:10.806339Z",
     "iopub.status.busy": "2020-12-15T16:45:10.805561Z",
     "iopub.status.idle": "2020-12-15T16:45:12.167954Z",
     "shell.execute_reply": "2020-12-15T16:45:12.168649Z"
    },
    "papermill": {
     "duration": 1.463541,
     "end_time": "2020-12-15T16:45:12.168861",
     "exception": false,
     "start_time": "2020-12-15T16:45:10.705320",
     "status": "completed"
    },
    "tags": []
   },
   "outputs": [
    {
     "data": {
      "image/png": "[encoded data removed]",
      "text/plain": [
       "<Figure size 432x288 with 1 Axes>"
      ]
     },
     "metadata": {
      "needs_background": "light"
     },
     "output_type": "display_data"
    }
   ],
   "source": [
    "\n",
    "# X = pivot_clusters.iloc[:, [2,3]].values\n",
    "X = pivot_clusters[['sport', 'health']].values\n",
    "\n",
    "# Elbow Method\n",
    "from sklearn.cluster import KMeans\n",
    "wcss = []\n",
    "for i in range(1, 11):\n",
    "    kmeans = KMeans(n_clusters=i, init='k-means++', n_init=10, max_iter=300, random_state=0)\n",
    "    kmeans.fit(X)\n",
    "    wcss.append(kmeans.inertia_)\n",
    "plt.plot(range(1,11), wcss)\n",
    "plt.title('Elbow Method')\n",
    "plt.xlabel('Number of Clusters')\n",
    "plt.ylabel('wcss')\n",
    "plt.show()"
   ]
  },
  {
   "cell_type": "code",
   "execution_count": 52,
   "metadata": {
    "execution": {
     "iopub.execute_input": "2020-12-15T16:45:12.362056Z",
     "iopub.status.busy": "2020-12-15T16:45:12.361359Z",
     "iopub.status.idle": "2020-12-15T16:45:12.853232Z",
     "shell.execute_reply": "2020-12-15T16:45:12.852644Z"
    },
    "papermill": {
     "duration": 0.588724,
     "end_time": "2020-12-15T16:45:12.853354",
     "exception": false,
     "start_time": "2020-12-15T16:45:12.264630",
     "status": "completed"
    },
    "tags": []
   },
   "outputs": [
    {
     "data": {
      "image/png": "[encoded data removed]",
      "text/plain": [
       "<Figure size 432x288 with 1 Axes>"
      ]
     },
     "metadata": {
      "needs_background": "light"
     },
     "output_type": "display_data"
    }
   ],
   "source": [
    "# fitting kmeans to dataset\n",
    "kmeans = KMeans(n_clusters=3, init='k-means++', n_init=10, max_iter=300, random_state=0)\n",
    "Y_kmeans = kmeans.fit_predict(X)\n",
    "\n",
    "# Visualising the clusters\n",
    "plt.scatter(X[Y_kmeans==0, 0], X[Y_kmeans==0, 1], s=100, c='violet', label= 'Cluster 1')\n",
    "plt.scatter(X[Y_kmeans==1, 0], X[Y_kmeans==1, 1], s=100, c='cyan', label= 'Cluster 2')\n",
    "plt.scatter(X[Y_kmeans==2, 0], X[Y_kmeans==2, 1], s=100, c='green', label= 'Cluster 3')\n",
    "# plt.scatter(X[Y_kmeans==3, 0], X[Y_kmeans==3, 1], s=100, c='blue', label= 'Cluster 4')\n",
    "# plt.scatter(X[Y_kmeans==4, 0], X[Y_kmeans==4, 1], s=100, c='magenta', label= 'Cluster 5')\n",
    "# plt.scatter(X[Y_kmeans==5, 0], X[Y_kmeans==5, 1], s=100, c='pink', label= 'Cluster 6')\n",
    "\n",
    "plt.scatter(kmeans.cluster_centers_[:, 0], kmeans.cluster_centers_[:, 1], s=100, c='black', label='Centroids' )\n",
    "plt.title('Clusters of tweets in sport and health groups')\n",
    "plt.xlabel('sport tweets')\n",
    "plt.ylabel('health tweets')\n",
    "plt.legend()\n",
    "plt.show()"
   ]
  },
  {
   "cell_type": "markdown",
   "metadata": {
    "papermill": {
     "duration": 0.086619,
     "end_time": "2020-12-15T16:45:13.028968",
     "exception": false,
     "start_time": "2020-12-15T16:45:12.942349",
     "status": "completed"
    },
    "tags": []
   },
   "source": [
    "\n",
    "* mechanical-Health"
   ]
  },
  {
   "cell_type": "code",
   "execution_count": 53,
   "metadata": {
    "execution": {
     "iopub.execute_input": "2020-12-15T16:45:13.227542Z",
     "iopub.status.busy": "2020-12-15T16:45:13.226774Z",
     "iopub.status.idle": "2020-12-15T16:45:14.355027Z",
     "shell.execute_reply": "2020-12-15T16:45:14.354364Z"
    },
    "papermill": {
     "duration": 1.235567,
     "end_time": "2020-12-15T16:45:14.355156",
     "exception": false,
     "start_time": "2020-12-15T16:45:13.119589",
     "status": "completed"
    },
    "tags": []
   },
   "outputs": [
    {
     "data": {
      "image/png": "[encoded data removed]",
      "text/plain": [
       "<Figure size 432x288 with 1 Axes>"
      ]
     },
     "metadata": {
      "needs_background": "light"
     },
     "output_type": "display_data"
    }
   ],
   "source": [
    "# X = pivot_clusters.iloc[:, [2,4]].values\n",
    "X = pivot_clusters[['mechanical', 'health']].values\n",
    "\n",
    "# Elbow Method\n",
    "from sklearn.cluster import KMeans\n",
    "wcss = []\n",
    "for i in range(1, 11):\n",
    "    kmeans = KMeans(n_clusters=i, init='k-means++', n_init=10, max_iter=300, random_state=0)\n",
    "    kmeans.fit(X)\n",
    "    wcss.append(kmeans.inertia_)\n",
    "plt.plot(range(1,11), wcss)\n",
    "plt.title('Elbow Method')\n",
    "plt.xlabel('Number of Clusters')\n",
    "plt.ylabel('wcss')\n",
    "plt.show()"
   ]
  },
  {
   "cell_type": "code",
   "execution_count": 54,
   "metadata": {
    "execution": {
     "iopub.execute_input": "2020-12-15T16:45:14.564994Z",
     "iopub.status.busy": "2020-12-15T16:45:14.564211Z",
     "iopub.status.idle": "2020-12-15T16:45:15.050761Z",
     "shell.execute_reply": "2020-12-15T16:45:15.051568Z"
    },
    "papermill": {
     "duration": 0.598105,
     "end_time": "2020-12-15T16:45:15.051718",
     "exception": false,
     "start_time": "2020-12-15T16:45:14.453613",
     "status": "completed"
    },
    "tags": []
   },
   "outputs": [
    {
     "data": {
      "image/png": "[encoded data removed]",
      "text/plain": [
       "<Figure size 432x288 with 1 Axes>"
      ]
     },
     "metadata": {
      "needs_background": "light"
     },
     "output_type": "display_data"
    }
   ],
   "source": [
    "# fitting kmeans to dataset\n",
    "kmeans = KMeans(n_clusters=3, init='k-means++', n_init=10, max_iter=300, random_state=0)\n",
    "Y_kmeans = kmeans.fit_predict(X)\n",
    "\n",
    "# Visualising the clusters\n",
    "plt.scatter(X[Y_kmeans==0, 0], X[Y_kmeans==0, 1], s=100, c='violet', label= 'Cluster 1')\n",
    "plt.scatter(X[Y_kmeans==1, 0], X[Y_kmeans==1, 1], s=100, c='cyan', label= 'Cluster 2')\n",
    "plt.scatter(X[Y_kmeans==2, 0], X[Y_kmeans==2, 1], s=100, c='green', label= 'Cluster 3')\n",
    "# plt.scatter(X[Y_kmeans==3, 0], X[Y_kmeans==3, 1], s=100, c='blue', label= 'Cluster 4')\n",
    "# plt.scatter(X[Y_kmeans==4, 0], X[Y_kmeans==4, 1], s=100, c='magenta', label= 'Cluster 5')\n",
    "plt.scatter(kmeans.cluster_centers_[:, 0], kmeans.cluster_centers_[:, 1], s=100, c='black', label='Centroids' )\n",
    "plt.title('Clusters of tweets in health and mechanical groups')\n",
    "plt.xlabel('mechanical tweets')\n",
    "plt.ylabel('health tweets')\n",
    "plt.legend()\n",
    "plt.show()"
   ]
  },
  {
   "cell_type": "markdown",
   "metadata": {
    "papermill": {
     "duration": 0.088377,
     "end_time": "2020-12-15T16:45:15.230390",
     "exception": false,
     "start_time": "2020-12-15T16:45:15.142013",
     "status": "completed"
    },
    "tags": []
   },
   "source": [
    "\n",
    "* education-health"
   ]
  },
  {
   "cell_type": "code",
   "execution_count": 55,
   "metadata": {
    "execution": {
     "iopub.execute_input": "2020-12-15T16:45:15.410873Z",
     "iopub.status.busy": "2020-12-15T16:45:15.410204Z",
     "iopub.status.idle": "2020-12-15T16:45:16.485272Z",
     "shell.execute_reply": "2020-12-15T16:45:16.486105Z"
    },
    "papermill": {
     "duration": 1.16721,
     "end_time": "2020-12-15T16:45:16.486297",
     "exception": false,
     "start_time": "2020-12-15T16:45:15.319087",
     "status": "completed"
    },
    "tags": []
   },
   "outputs": [
    {
     "data": {
      "image/png": "[encoded data removed]",
      "text/plain": [
       "<Figure size 432x288 with 1 Axes>"
      ]
     },
     "metadata": {
      "needs_background": "light"
     },
     "output_type": "display_data"
    }
   ],
   "source": [
    "# X = pivot_clusters.iloc[:, [2,4]].values\n",
    "X = pivot_clusters[['education', 'health']].values\n",
    "\n",
    "# Elbow Method\n",
    "from sklearn.cluster import KMeans\n",
    "wcss = []\n",
    "for i in range(1, 11):\n",
    "    kmeans = KMeans(n_clusters=i, init='k-means++', n_init=10, max_iter=300, random_state=0)\n",
    "    kmeans.fit(X)\n",
    "    wcss.append(kmeans.inertia_)\n",
    "plt.plot(range(1,11), wcss)\n",
    "plt.title('Elbow Method')\n",
    "plt.xlabel('Number of Clusters')\n",
    "plt.ylabel('wcss')\n",
    "plt.show()"
   ]
  },
  {
   "cell_type": "code",
   "execution_count": 56,
   "metadata": {
    "execution": {
     "iopub.execute_input": "2020-12-15T16:45:16.695858Z",
     "iopub.status.busy": "2020-12-15T16:45:16.695169Z",
     "iopub.status.idle": "2020-12-15T16:45:17.207393Z",
     "shell.execute_reply": "2020-12-15T16:45:17.206779Z"
    },
    "papermill": {
     "duration": 0.617998,
     "end_time": "2020-12-15T16:45:17.207515",
     "exception": false,
     "start_time": "2020-12-15T16:45:16.589517",
     "status": "completed"
    },
    "tags": []
   },
   "outputs": [
    {
     "data": {
      "image/png": "[encoded data removed]",
      "text/plain": [
       "<Figure size 432x288 with 1 Axes>"
      ]
     },
     "metadata": {
      "needs_background": "light"
     },
     "output_type": "display_data"
    }
   ],
   "source": [
    "# fitting kmeans to dataset\n",
    "kmeans = KMeans(n_clusters=4, init='k-means++', n_init=10, max_iter=300, random_state=0)\n",
    "Y_kmeans = kmeans.fit_predict(X)\n",
    "\n",
    "# Visualising the clusters\n",
    "plt.scatter(X[Y_kmeans==0, 0], X[Y_kmeans==0, 1], s=100, c='violet', label= 'Cluster 1')\n",
    "plt.scatter(X[Y_kmeans==1, 0], X[Y_kmeans==1, 1], s=100, c='cyan', label= 'Cluster 2')\n",
    "plt.scatter(X[Y_kmeans==2, 0], X[Y_kmeans==2, 1], s=100, c='green', label= 'Cluster 3')\n",
    "plt.scatter(X[Y_kmeans==3, 0], X[Y_kmeans==3, 1], s=100, c='blue', label= 'Cluster 4')\n",
    "#plt.scatter(X[Y_kmeans==4, 0], X[Y_kmeans==4, 1], s=100, c='magenta', label= 'Cluster 5')\n",
    "# plt.scatter(X[Y_kmeans==5, 0], X[Y_kmeans==5, 1], s=100, c='pink', label= 'Cluster 6')\n",
    "# plt.scatter(X[Y_kmeans==6, 0], X[Y_kmeans==6, 1], s=100, c='yellow', label= 'Cluster 7')\n",
    "plt.scatter(kmeans.cluster_centers_[:, 0], kmeans.cluster_centers_[:, 1], s=100, c='black', label='Centroids' )\n",
    "plt.title('Clusters of tweets in education and health groups')\n",
    "plt.xlabel('education tweets')\n",
    "plt.ylabel('health tweets')\n",
    "plt.legend()\n",
    "plt.show()"
   ]
  }
 ],
 "metadata": {
  "kernelspec": {
   "display_name": "Python 3",
   "language": "python",
   "name": "python3"
  },
  "language_info": {
   "codemirror_mode": {
    "name": "ipython",
    "version": 3
   },
   "file_extension": ".py",
   "mimetype": "text/x-python",
   "name": "python",
   "nbconvert_exporter": "python",
   "pygments_lexer": "ipython3",
   "version": "3.6.9"
  },
  "papermill": {
   "duration": 50.883157,
   "end_time": "2020-12-15T16:45:17.406690",
   "environment_variables": {},
   "exception": null,
   "input_path": "__notebook__.ipynb",
   "output_path": "__notebook__.ipynb",
   "parameters": {},
   "start_time": "2020-12-15T16:44:26.523533",
   "version": "2.1.0"
  }
 },
 "nbformat": 4,
 "nbformat_minor": 4
}
